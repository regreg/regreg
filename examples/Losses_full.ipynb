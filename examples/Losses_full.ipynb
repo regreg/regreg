{
 "cells": [
  {
   "cell_type": "markdown",
   "metadata": {},
   "source": [
    "## Some common loss functions\n",
    "\n",
    "There are several commonly used smooth loss functions built into\n",
    "`regreg`:\n",
    "\n",
    "* squared error loss (`regreg.api.squared_error`)\n",
    "\n",
    "* Logistic loss (`regreg.glm.glm.logistic`)\n",
    "\n",
    "* Poisson loss (`regreg.glm.glm.poisson`)\n",
    "\n",
    "* Cox proportional hazards (`regreg.glm.glm.coxph`, depends on\n",
    "  `statsmodels`)\n",
    "\n",
    "* Huber loss (`regreg.glm.glm.huber`)\n",
    "\n",
    "* Huberized SVM (`regreg.smooth.losses.huberized_svm`)"
   ]
  },
  {
   "cell_type": "code",
   "execution_count": 1,
   "metadata": {},
   "outputs": [
    {
     "data": {
      "text/latex": [
       "$$\\ell^{\\text{logit}}\\left(X_{}\\beta\\right)$$"
      ],
      "text/plain": [
       "<regreg.smooth.glm.glm at 0x120a8bbe0>"
      ]
     },
     "execution_count": 1,
     "metadata": {},
     "output_type": "execute_result"
    }
   ],
   "source": [
    "import numpy as np\n",
    "import regreg.api as rr\n",
    "import matplotlib.pyplot as plt\n",
    "\n",
    "import rpy2.robjects as rpy2\n",
    "from rpy2.robjects import numpy2ri\n",
    "numpy2ri.activate()\n",
    "\n",
    "X = np.random.standard_normal((100, 5))\n",
    "X *= np.linspace(1, 3, 5)[None, :]\n",
    "Y = np.random.binomial(1, 0.5, (100,))\n",
    "loss = rr.glm.logistic(X, Y)\n",
    "loss"
   ]
  },
  {
   "cell_type": "markdown",
   "metadata": {},
   "source": [
    "$$\n",
    "\\ell^{\\text{logit}}\\left(X_{}\\beta\\right)\n",
    "$$"
   ]
  },
  {
   "cell_type": "code",
   "execution_count": 2,
   "metadata": {},
   "outputs": [
    {
     "data": {
      "text/plain": [
       "array([ 0.03772602, -0.04863572, -0.08215854, -0.07378244,  0.04341304,\n",
       "       -0.18794823])"
      ]
     },
     "execution_count": 2,
     "metadata": {},
     "output_type": "execute_result"
    }
   ],
   "source": [
    "rpy2.r.assign('X', X)\n",
    "rpy2.r.assign('Y', Y)\n",
    "r_soln = rpy2.r('glm(Y ~ X, family=binomial)$coef')\n",
    "loss.solve()\n",
    "np.array(r_soln)"
   ]
  },
  {
   "cell_type": "markdown",
   "metadata": {},
   "source": [
    "The losses can very easily be combined with a penalty."
   ]
  },
  {
   "cell_type": "code",
   "execution_count": 3,
   "metadata": {},
   "outputs": [
    {
     "data": {
      "text/plain": [
       "array([-0.        , -0.03926608, -0.05179897,  0.03680599, -0.1725902 ])"
      ]
     },
     "execution_count": 3,
     "metadata": {},
     "output_type": "execute_result"
    }
   ],
   "source": [
    "penalty = rr.l1norm(5, lagrange=2)\n",
    "problem = rr.simple_problem(loss, penalty)\n",
    "problem.solve(tol=1.e-12)"
   ]
  },
  {
   "cell_type": "code",
   "execution_count": 4,
   "metadata": {},
   "outputs": [
    {
     "name": "stderr",
     "output_type": "stream",
     "text": [
      "R[write to console]: Loading required package: Matrix\n",
      "\n"
     ]
    },
    {
     "name": "stderr",
     "output_type": "stream",
     "text": [
      "R[write to console]: Loading required package: foreach\n",
      "\n"
     ]
    },
    {
     "name": "stderr",
     "output_type": "stream",
     "text": [
      "R[write to console]: Loaded glmnet 2.0-18\n",
      "\n",
      "\n"
     ]
    },
    {
     "name": "stdout",
     "output_type": "stream",
     "text": [
      "6 x 1 sparse Matrix of class \"dgCMatrix\"\n"
     ]
    },
    {
     "name": "stdout",
     "output_type": "stream",
     "text": [
      "           "
     ]
    },
    {
     "name": "stdout",
     "output_type": "stream",
     "text": [
      "           1"
     ]
    },
    {
     "name": "stdout",
     "output_type": "stream",
     "text": [
      "\n",
      "(Intercept)"
     ]
    },
    {
     "name": "stdout",
     "output_type": "stream",
     "text": [
      "  .         "
     ]
    },
    {
     "name": "stdout",
     "output_type": "stream",
     "text": [
      "\n",
      "V1         "
     ]
    },
    {
     "name": "stdout",
     "output_type": "stream",
     "text": [
      "  .         "
     ]
    },
    {
     "name": "stdout",
     "output_type": "stream",
     "text": [
      "\n",
      "V2         "
     ]
    },
    {
     "name": "stdout",
     "output_type": "stream",
     "text": [
      " -0.03926385"
     ]
    },
    {
     "name": "stdout",
     "output_type": "stream",
     "text": [
      "\n",
      "V3         "
     ]
    },
    {
     "name": "stdout",
     "output_type": "stream",
     "text": [
      " -0.05179873"
     ]
    },
    {
     "name": "stdout",
     "output_type": "stream",
     "text": [
      "\n",
      "V4         "
     ]
    },
    {
     "name": "stdout",
     "output_type": "stream",
     "text": [
      "  0.03680646"
     ]
    },
    {
     "name": "stdout",
     "output_type": "stream",
     "text": [
      "\n",
      "V5         "
     ]
    },
    {
     "name": "stdout",
     "output_type": "stream",
     "text": [
      " -0.17259009"
     ]
    },
    {
     "name": "stdout",
     "output_type": "stream",
     "text": [
      "\n"
     ]
    },
    {
     "data": {
      "text/plain": [
       "R object with classes: ('dgCMatrix',) mapped to:"
      ]
     },
     "execution_count": 4,
     "metadata": {},
     "output_type": "execute_result"
    }
   ],
   "source": [
    "rpy2.r('''\n",
    "library(glmnet)\n",
    "Y = as.numeric(Y)\n",
    "G = glmnet(X, Y, intercept=FALSE, standardize=FALSE, family='binomial')\n",
    "print(coef(G, s=2 / nrow(X), x=X, y=Y, exact=TRUE))\n",
    "''')"
   ]
  },
  {
   "cell_type": "markdown",
   "metadata": {},
   "source": [
    "Suppose we want to match `glmnet` exactly without having to specify\n",
    "`intercept=FALSE` and `standardize=FALSE`. The `normalize`\n",
    "transformation can be used here."
   ]
  },
  {
   "cell_type": "code",
   "execution_count": 5,
   "metadata": {},
   "outputs": [
    {
     "data": {
      "text/plain": [
       "array([-0.03968882, -0.        , -0.04130455, -0.05131366,  0.03490101,\n",
       "       -0.17476366])"
      ]
     },
     "execution_count": 5,
     "metadata": {},
     "output_type": "execute_result"
    }
   ],
   "source": [
    "n = X.shape[0]\n",
    "X_intercept = np.hstack([np.ones((X.shape[0], 1)), X])\n",
    "X_normalized = rr.normalize(X_intercept, intercept_column=0, scale=False)\n",
    "loss_normalized = rr.glm.logistic(X_normalized, Y)\n",
    "penalty_normalized = rr.weighted_l1norm([0] + [1]*5, lagrange=2.)\n",
    "problem_normalized = rr.simple_problem(loss_normalized, penalty_normalized)\n",
    "coefR = problem_normalized.solve(tol=1.e-12, min_its=200)\n",
    "coefR"
   ]
  },
  {
   "cell_type": "code",
   "execution_count": 6,
   "metadata": {},
   "outputs": [],
   "source": [
    "coefG = np.array(rpy2.r('as.numeric(coef(G, s=2 / nrow(X), exact=TRUE, x=X, y=Y))'))"
   ]
  },
  {
   "cell_type": "code",
   "execution_count": 7,
   "metadata": {},
   "outputs": [
    {
     "data": {
      "text/plain": [
       "(65.90584223689014, 65.8867255949289)"
      ]
     },
     "execution_count": 7,
     "metadata": {},
     "output_type": "execute_result"
    }
   ],
   "source": [
    "problem_normalized.objective(coefG), problem_normalized.objective(coefR)"
   ]
  },
  {
   "cell_type": "markdown",
   "metadata": {},
   "source": [
    "In theory, using the `standardize=TRUE` option in `glmnet` should be\n",
    "the same as using `scale=True, value=np.sqrt((n-1)/n)` in\n",
    "`normalize`, though the results don’t match without some adjustment.\n",
    "This is because `glmnet` returns coefficients that are on the scale of\n",
    "the original $X$.\n",
    "\n",
    "Dividing `regreg`’s coefficients by the `col_stds` corrects this."
   ]
  },
  {
   "cell_type": "code",
   "execution_count": 8,
   "metadata": {},
   "outputs": [
    {
     "data": {
      "text/plain": [
       "array([-0.04022662, -0.        , -0.02318002, -0.02853925,  0.01882133,\n",
       "       -0.15450194])"
      ]
     },
     "execution_count": 8,
     "metadata": {},
     "output_type": "execute_result"
    }
   ],
   "source": [
    "X_intercept = np.hstack([np.ones((X.shape[0], 1)), X])\n",
    "X_normalized = rr.normalize(X_intercept, intercept_column=0,\n",
    "                           value=np.sqrt((n-1.)/n))\n",
    "loss_normalized = rr.glm.logistic(X_normalized, Y)\n",
    "penalty_normalized = rr.weighted_l1norm([0] + [1]*5, lagrange=2.)\n",
    "problem_normalized = rr.simple_problem(loss_normalized, penalty_normalized)\n",
    "coefR = problem_normalized.solve(min_its=300)\n",
    "coefR / X_normalized.col_stds"
   ]
  },
  {
   "cell_type": "code",
   "execution_count": 9,
   "metadata": {},
   "outputs": [],
   "source": [
    "rpy2.r('''\n",
    "Y = as.numeric(Y)\n",
    "G = glmnet(X, Y, standardize=TRUE, intercept=TRUE, family='binomial')\n",
    "coefG = as.numeric(coef(G, s=2 / nrow(X), exact=TRUE, x=X, y=Y))\n",
    "''')\n",
    "coefG = np.array(rpy2.r('coefG'))"
   ]
  },
  {
   "cell_type": "code",
   "execution_count": 10,
   "metadata": {},
   "outputs": [
    {
     "data": {
      "text/plain": [
       "(67.64597880430388, 67.6396650718625)"
      ]
     },
     "execution_count": 10,
     "metadata": {},
     "output_type": "execute_result"
    }
   ],
   "source": [
    "coefG = coefG * X_normalized.col_stds\n",
    "problem_normalized.objective(coefG), problem_normalized.objective(coefR)\n",
    "(67.64597880430388, 67.639665071862495)"
   ]
  },
  {
   "cell_type": "markdown",
   "metadata": {},
   "source": [
    "## Defining a new smooth function\n",
    "\n",
    "A smooth function only really needs a `smooth_objective` method in\n",
    "order to be used in `regreg`.\n",
    "\n",
    "For example, suppose we want to define the loss\n",
    "\n",
    "$$\n",
    "\\mu \\mapsto \\frac{1}{2} \\|\\mu\\|^2_2  - \\sum_{i=1}^k \\log(b_i - a_i^T\\mu)\n",
    "$$\n",
    "\n",
    "as a smooth approximation to the function\n",
    "\n",
    "$$\n",
    "  \\mu \\mapsto \\frac{1}{2} \\|\\mu\\|^2_2 + I^{\\infty}_K(\\mu)\n",
    "\n",
    "where :math:`I^{\\infty}_K` is the indicator of\n",
    "$$\n",
    "\n",
    "$K=\\left\\{\\mu: a_i^T\\mu\\leq b_i, 1 \\leq i \\leq k\\right\\}$ (i.e. 0\n",
    "inside $K$ and $\\infty$ outside $K$)."
   ]
  },
  {
   "cell_type": "code",
   "execution_count": 11,
   "metadata": {},
   "outputs": [],
   "source": [
    "class barrier(rr.smooth_atom):\n",
    "\n",
    "    # the argumenets [coef, offset, quadratic, initial]\n",
    "    # are passed when a function is composed with a linear_transform\n",
    "\n",
    "    objective_template = r\"\"\"\\ell^{\\text{barrier}}\\left(%(var)s\\right)\\\n",
    "    \"\"\"\n",
    "\n",
    "    def __init__(self,\n",
    "                 shape,\n",
    "                 A,\n",
    "                 b,\n",
    "                 coef=1.,\n",
    "                 offset=None,\n",
    "                 quadratic=None,\n",
    "                 initial=None):\n",
    "        rr.smooth_atom.__init__(self,\n",
    "                                shape,\n",
    "                                coef=coef,\n",
    "                                offset=offset,\n",
    "                                quadratic=quadratic,\n",
    "                                initial=initial)\n",
    "        self.A = A\n",
    "        self.b = b\n",
    "\n",
    "    def smooth_objective(self, mean_param, mode='both', check_feasibility=False):\n",
    "        mean_param = self.apply_offset(mean_param)\n",
    "        slack = self.b - self.A.dot(mean_param)\n",
    "        if mode == 'both':\n",
    "            f = self.scale(np.sum(mean_param**2/2.) - np.log(slack).sum())\n",
    "            g = self.scale(mean_param + self.A.T.dot(1. / slack))\n",
    "            return f, g\n",
    "        elif mode == 'grad':\n",
    "            g = self.scale(mean_param + self.A.T.dot(1. / slack))\n",
    "            return g\n",
    "        elif mode == 'func':\n",
    "            f = self.scale(np.sum(mean_param**2/2.) - np.log(slack).sum())\n",
    "            return f\n",
    "        else:\n",
    "            return ValueError('mode incorrectly specified')"
   ]
  },
  {
   "cell_type": "code",
   "execution_count": 12,
   "metadata": {},
   "outputs": [
    {
     "data": {
      "text/latex": [
       "$$\\ell^{\\text{barrier}}\\left(\\beta\\right)    $$"
      ],
      "text/plain": [
       "<__main__.barrier at 0x12136b208>"
      ]
     },
     "execution_count": 12,
     "metadata": {},
     "output_type": "execute_result"
    }
   ],
   "source": [
    "A = np.array([[1, 0.], [1, 1]])\n",
    "b = np.array([3., 4])\n",
    "barrier_loss = barrier((2,), A, b)\n",
    "barrier_loss"
   ]
  },
  {
   "cell_type": "markdown",
   "metadata": {},
   "source": [
    "$$\n",
    "\\ell^{\\text{barrier}}\\left(\\beta\\right)\n",
    "$$"
   ]
  },
  {
   "cell_type": "code",
   "execution_count": 13,
   "metadata": {},
   "outputs": [
    {
     "data": {
      "text/plain": [
       "array([-0.49815853, -0.21229384])"
      ]
     },
     "execution_count": 13,
     "metadata": {},
     "output_type": "execute_result"
    }
   ],
   "source": [
    "barrier_loss.solve(min_its=100)"
   ]
  },
  {
   "cell_type": "markdown",
   "metadata": {},
   "source": [
    "The loss can now be combined with a penalty or constraint very easily."
   ]
  },
  {
   "cell_type": "code",
   "execution_count": 14,
   "metadata": {},
   "outputs": [
    {
     "data": {
      "text/plain": [
       "array([-0.39719293, -0.10280707])"
      ]
     },
     "execution_count": 14,
     "metadata": {},
     "output_type": "execute_result"
    }
   ],
   "source": [
    "l1_bound = rr.l1norm(2, bound=0.5)\n",
    "problem = rr.simple_problem(barrier_loss, l1_bound)\n",
    "problem.solve()"
   ]
  },
  {
   "cell_type": "markdown",
   "metadata": {},
   "source": [
    "The loss can also be composed with a linear transform:"
   ]
  },
  {
   "cell_type": "code",
   "execution_count": 15,
   "metadata": {},
   "outputs": [
    {
     "data": {
      "text/latex": [
       "$$\\ell^{\\text{barrier}}\\left(X_{}\\beta\\right)    $$"
      ],
      "text/plain": [
       "affine_smooth(<__main__.barrier object at 0x12136b208>, <regreg.affine.linear_transform object at 0x12136b2b0>, store_grad=True)"
      ]
     },
     "execution_count": 15,
     "metadata": {},
     "output_type": "execute_result"
    }
   ],
   "source": [
    "X = np.random.standard_normal((2,1))\n",
    "lossX = rr.affine_smooth(barrier_loss, X)\n",
    "lossX"
   ]
  },
  {
   "cell_type": "markdown",
   "metadata": {},
   "source": [
    "$$\n",
    "\\ell^{\\text{barrier}}\\left(X_{}\\beta\\right)\n",
    "$$"
   ]
  },
  {
   "cell_type": "code",
   "execution_count": 16,
   "metadata": {},
   "outputs": [
    {
     "data": {
      "text/plain": [
       "array([-0.34741628])"
      ]
     },
     "execution_count": 16,
     "metadata": {},
     "output_type": "execute_result"
    }
   ],
   "source": [
    "lossX.solve()"
   ]
  },
  {
   "cell_type": "markdown",
   "metadata": {},
   "source": [
    "Huberized lasso\n",
    "\n",
    "The Huberized lasso minimizes the following objective\n",
    "\n",
    "$$\n",
    "H_{\\delta}(Y - X\\beta) + \\lambda \\|\\beta\\|_1\n",
    "$$\n",
    "\n",
    "where $H_{\\delta}(\\cdot)$ is a function applied element-wise,\n",
    "\n",
    "$$\n",
    " H_{\\delta}(r) = \\left\\{\\begin{array}{ll} r^2/2 & \\mbox{ if } |r| \\leq\n",
    "\\delta \\\\ \\delta r - \\delta^2/2 & \\mbox{ else}\\end{array} \\right.\n",
    "$$\n",
    "\n",
    "Let’s look at the Huber loss for a smoothing parameter of\n",
    "$\\delta=1.2$"
   ]
  },
  {
   "cell_type": "code",
   "execution_count": 17,
   "metadata": {},
   "outputs": [
    {
     "data": {
      "text/plain": [
       "[<matplotlib.lines.Line2D at 0x1215210f0>]"
      ]
     },
     "execution_count": 17,
     "metadata": {},
     "output_type": "execute_result"
    }
   ],
   "source": [
    "q = rr.identity_quadratic(1.2, 0., 0., 0.)\n",
    "loss = rr.l1norm(1, lagrange=1).smoothed(q)\n",
    "xval = np.linspace(-2,2,101)\n",
    "yval = [loss.smooth_objective(x, 'func') for x in xval]\n",
    "huber_fig = plt.figure(figsize=(8,8))\n",
    "huber_ax = huber_fig.gca()\n",
    "huber_ax.plot(xval, yval)"
   ]
  },
  {
   "cell_type": "markdown",
   "metadata": {},
   "source": [
    "The Huber loss is built into regreg, but can also be obtained by\n",
    "smoothing the `l1norm` atom. We will verify the two methods yield the\n",
    "same solutions."
   ]
  },
  {
   "cell_type": "code",
   "execution_count": 18,
   "metadata": {},
   "outputs": [],
   "source": [
    "X = np.random.standard_normal((50, 10))\n",
    "Y = np.random.standard_normal(50)"
   ]
  },
  {
   "cell_type": "code",
   "execution_count": 19,
   "metadata": {},
   "outputs": [],
   "source": [
    "penalty = rr.l1norm(10,lagrange=5.)\n",
    "loss_atom = rr.l1norm.affine(X, -Y, lagrange=1.).smoothed(rr.identity_quadratic(0.5,0,0,0))\n",
    "loss = rr.glm.huber(X, Y, 0.5)"
   ]
  },
  {
   "cell_type": "code",
   "execution_count": 20,
   "metadata": {},
   "outputs": [
    {
     "name": "stdout",
     "output_type": "stream",
     "text": [
      "[-0.          0.          0.          0.00819026 -0.07042976  0.\n",
      " -0.         -0.07866935 -0.12959658  0.0055762 ]\n"
     ]
    }
   ],
   "source": [
    "problem1 = rr.simple_problem(loss_atom, penalty)\n",
    "print(problem1.solve(tol=1.e-12))"
   ]
  },
  {
   "cell_type": "code",
   "execution_count": 21,
   "metadata": {},
   "outputs": [
    {
     "name": "stdout",
     "output_type": "stream",
     "text": [
      "[-0.          0.          0.          0.00819044 -0.07042971  0.\n",
      " -0.         -0.07866952 -0.12959655  0.00557598]\n"
     ]
    }
   ],
   "source": [
    "problem2 = rr.simple_problem(loss, penalty)\n",
    "print(problem2.solve(tol=1.e-12))"
   ]
  },
  {
   "cell_type": "markdown",
   "metadata": {},
   "source": [
    "# Poisson regression tutorial\n",
    "\n",
    "The Poisson regression problem minimizes the objective\n",
    "\n",
    "$$\n",
    "-2 \\left(Y^TX\\beta - \\sum_{i=1}^n \\mbox{exp}(x_i^T\\beta) \\right), \\qquad Y_i \\in {0,1,2,\\ldots}\n",
    "$$\n",
    "\n",
    "which corresponds to the usual Poisson regression model\n",
    "\n",
    "$$\n",
    "P(Y=y|X=x) = \\frac{\\mbox{exp}(y \\cdot x^T\\beta-\\mbox{exp}(x^T\\beta))}{y!}\n",
    "$$"
   ]
  },
  {
   "cell_type": "code",
   "execution_count": 22,
   "metadata": {},
   "outputs": [],
   "source": [
    "n = 100\n",
    "p = 5\n",
    "X = np.random.standard_normal((n,p))\n",
    "Y = np.random.randint(0,100,n)"
   ]
  },
  {
   "cell_type": "markdown",
   "metadata": {},
   "source": [
    "Now we can create the problem object, beginning with the loss function"
   ]
  },
  {
   "cell_type": "code",
   "execution_count": 23,
   "metadata": {},
   "outputs": [
    {
     "name": "stderr",
     "output_type": "stream",
     "text": [
      "/Users/jonathantaylor/git-repos/regreg/regreg/smooth/glm.py:840: RuntimeWarning: divide by zero encountered in log\n",
      "  loss_terms = - coef * ((counts - 1) * np.log(counts))\n",
      "/Users/jonathantaylor/git-repos/regreg/regreg/smooth/glm.py:887: RuntimeWarning: overflow encountered in exp\n",
      "  exp_x = np.exp(x)\n"
     ]
    },
    {
     "data": {
      "text/plain": [
       "array([-0.2470568 , -1.10732254,  0.59664194,  0.82564975, -1.45966645])"
      ]
     },
     "execution_count": 23,
     "metadata": {},
     "output_type": "execute_result"
    }
   ],
   "source": [
    "loss = rr.glm.poisson(X, Y)\n",
    "loss.solve()"
   ]
  },
  {
   "cell_type": "code",
   "execution_count": 24,
   "metadata": {},
   "outputs": [
    {
     "data": {
      "text/plain": [
       "array([-0.24552094, -1.10726199,  0.59542001,  0.82873657, -1.45483286])"
      ]
     },
     "execution_count": 24,
     "metadata": {},
     "output_type": "execute_result"
    }
   ],
   "source": [
    "rpy2.r.assign('Y', Y)\n",
    "rpy2.r.assign('X', X)\n",
    "np.array(rpy2.r('coef(glm(Y ~ X - 1, family=poisson()))'))"
   ]
  },
  {
   "cell_type": "markdown",
   "metadata": {},
   "source": [
    "# Logistic regression with a ridge penalty\n",
    "\n",
    "In `regreg`, ridge penalties can be specified by the `quadratic`\n",
    "attribute of a loss (or a penalty).\n",
    "\n",
    "The regularized ridge logistic regression problem minimizes the\n",
    "objective\n",
    "\n",
    "$$\n",
    "-2\\left(Y^TX\\beta - \\sum_i \\log \\left[ 1 + \\exp(x_i^T\\beta) \\right] \\right) + \\lambda \\|\\beta\\|_2^2\n",
    "$$\n",
    "\n",
    "which corresponds to the usual logistic regression model\n",
    "\n",
    "$$\n",
    "P(Y=1|X=x) = \\mbox{logit}(x^T\\beta) = \\frac{1}{1 + \\mbox{exp}(-x^T\\beta)}\n",
    "$$\n",
    "\n",
    "Let’s generate some sample data."
   ]
  },
  {
   "cell_type": "code",
   "execution_count": 25,
   "metadata": {},
   "outputs": [],
   "source": [
    "X = np.random.standard_normal((200, 10))\n",
    "Y = np.random.randint(0,2,200)"
   ]
  },
  {
   "cell_type": "markdown",
   "metadata": {},
   "source": [
    "Now we can create the problem object, beginning with the loss function"
   ]
  },
  {
   "cell_type": "code",
   "execution_count": 26,
   "metadata": {},
   "outputs": [
    {
     "data": {
      "text/latex": [
       "$$\\ell^{\\text{logit}}\\left(X_{}\\beta\\right)$$"
      ],
      "text/plain": [
       "<regreg.smooth.glm.glm at 0x12173e208>"
      ]
     },
     "execution_count": 26,
     "metadata": {},
     "output_type": "execute_result"
    }
   ],
   "source": [
    "loss = rr.glm.logistic(X, Y)\n",
    "penalty = rr.identity_quadratic(1., 0., 0., 0.)\n",
    "loss.quadratic = penalty\n",
    "loss"
   ]
  },
  {
   "cell_type": "markdown",
   "metadata": {},
   "source": [
    "$$\n",
    "\\ell^{\\text{logit}}\\left(X_{}\\beta\\right)\n",
    "$$"
   ]
  },
  {
   "cell_type": "code",
   "execution_count": 27,
   "metadata": {},
   "outputs": [
    {
     "data": {
      "text/plain": [
       "1.0"
      ]
     },
     "execution_count": 27,
     "metadata": {},
     "output_type": "execute_result"
    }
   ],
   "source": [
    "penalty.coef\n",
    "1.0"
   ]
  },
  {
   "cell_type": "code",
   "execution_count": 28,
   "metadata": {},
   "outputs": [
    {
     "data": {
      "text/plain": [
       "array([-0.20900315,  0.11839588, -0.1813296 ,  0.14529937, -0.10693407,\n",
       "        0.07222367,  0.28326734,  0.051914  ,  0.05141479, -0.1229806 ])"
      ]
     },
     "execution_count": 28,
     "metadata": {},
     "output_type": "execute_result"
    }
   ],
   "source": [
    "loss.solve()"
   ]
  },
  {
   "cell_type": "code",
   "execution_count": 29,
   "metadata": {},
   "outputs": [
    {
     "data": {
      "text/plain": [
       "array([-0.14636856,  0.08683651, -0.12888217,  0.09303803, -0.07941929,\n",
       "        0.04877304,  0.21071889,  0.03228041,  0.0328905 , -0.08097988])"
      ]
     },
     "execution_count": 29,
     "metadata": {},
     "output_type": "execute_result"
    }
   ],
   "source": [
    "penalty.coef = 20.\n",
    "loss.solve()"
   ]
  },
  {
   "cell_type": "markdown",
   "metadata": {},
   "source": [
    "# Multinomial regression\n",
    "\n",
    "The multinomial regression problem minimizes the objective\n",
    "\n",
    "$$\n",
    "-\\left[ \\sum_{j=1}^{J-1} \\sum_{k=1}^p \\beta_{jk}\\sum_{i=1}^n x_{ik}y_{ij}\n",
    " - \\sum_{i=1}^n \\log \\left(1 + \\mbox{exp}(x_i^T\\beta_j) \\right)\\right]\n",
    "$$\n",
    "\n",
    "which corresponds to a baseline category logit model for $J$\n",
    "nominal categories (e.g. Agresti, p.g. 272). For $i \\ne J$ the\n",
    "probabilities are measured relative to a baseline category $J$\n",
    "\n",
    "$$\n",
    "\\frac{P(\\mbox{Category } i)}{P(\\mbox{Category } J)} = \\mbox{logit}(x^T\\beta_i) = \\frac{1}{1 + \\mbox{exp}(-x^T\\beta_i)}\n",
    "$$"
   ]
  },
  {
   "cell_type": "code",
   "execution_count": 30,
   "metadata": {},
   "outputs": [],
   "source": [
    "from regreg.smooth.glm import multinomial_loglike"
   ]
  },
  {
   "cell_type": "markdown",
   "metadata": {},
   "source": [
    "The only code needed to add multinomial regression to RegReg is a class\n",
    "with one method which computes the objective and its gradient.\n",
    "\n",
    "Next, let’s generate some example data. The multinomial counts will be\n",
    "stored in a $n \\times J$ array"
   ]
  },
  {
   "cell_type": "code",
   "execution_count": 31,
   "metadata": {},
   "outputs": [],
   "source": [
    "J = 5\n",
    "n = 500\n",
    "p = 10\n",
    "X = np.random.standard_normal((n,p))\n",
    "Y = np.random.randint(0,10,n*J).reshape((n,J))"
   ]
  },
  {
   "cell_type": "markdown",
   "metadata": {},
   "source": [
    "Now we can create the problem object, beginning with the loss function.\n",
    "The coefficients will be stored in a $p \\times (J-1)$ array, and\n",
    "we need to let RegReg know that the coefficients will be a 2d array\n",
    "instead of a vector. We can do this by defining the input_shape in a\n",
    "linear_transform object that multiplies by X,"
   ]
  },
  {
   "cell_type": "code",
   "execution_count": 32,
   "metadata": {},
   "outputs": [
    {
     "name": "stderr",
     "output_type": "stream",
     "text": [
      "/Users/jonathantaylor/git-repos/regreg/regreg/smooth/glm.py:1114: RuntimeWarning: divide by zero encountered in log\n",
      "  loss_terms = np.log(saturated) * self.counts\n",
      "/Users/jonathantaylor/git-repos/regreg/regreg/smooth/glm.py:1114: RuntimeWarning: invalid value encountered in multiply\n",
      "  loss_terms = np.log(saturated) * self.counts\n"
     ]
    },
    {
     "data": {
      "text/plain": [
       "(10, 4)"
      ]
     },
     "execution_count": 32,
     "metadata": {},
     "output_type": "execute_result"
    }
   ],
   "source": [
    "multX = rr.linear_transform(X, input_shape=(p,J-1))\n",
    "loss = rr.multinomial_loglike.linear(multX, counts=Y)\n",
    "loss.shape"
   ]
  },
  {
   "cell_type": "markdown",
   "metadata": {},
   "source": [
    "Next, we can solve the problem"
   ]
  },
  {
   "cell_type": "code",
   "execution_count": 33,
   "metadata": {},
   "outputs": [
    {
     "data": {
      "text/plain": [
       "array([[ 0.0548204 ,  0.02639891,  0.06349326,  0.05484217],\n",
       "       [-0.00801381, -0.05425095, -0.00092391,  0.01554628],\n",
       "       [ 0.02863027,  0.04296675,  0.01209194, -0.00340814],\n",
       "       [-0.00482727, -0.04333662, -0.01714575, -0.02382563],\n",
       "       [ 0.04011513,  0.05115482,  0.02824501,  0.02031728],\n",
       "       [ 0.02297367,  0.02673593,  0.06309896,  0.04316998],\n",
       "       [ 0.03164772,  0.03662476, -0.01244323,  0.01106618],\n",
       "       [ 0.01161456,  0.03501517, -0.00586908, -0.01117148],\n",
       "       [ 0.004103  ,  0.01089722,  0.02079106,  0.02713465],\n",
       "       [-0.01233972,  0.03607589,  0.02923168, -0.04108609]])"
      ]
     },
     "execution_count": 33,
     "metadata": {},
     "output_type": "execute_result"
    }
   ],
   "source": [
    "loss.solve()"
   ]
  },
  {
   "cell_type": "markdown",
   "metadata": {},
   "source": [
    "When $J=2$ this model should reduce to logistic regression. We can\n",
    "easily check that this is the case by first fitting the multinomial\n",
    "model"
   ]
  },
  {
   "cell_type": "code",
   "execution_count": 34,
   "metadata": {},
   "outputs": [
    {
     "name": "stderr",
     "output_type": "stream",
     "text": [
      "/Users/jonathantaylor/git-repos/regreg/regreg/smooth/glm.py:1113: RuntimeWarning: invalid value encountered in true_divide\n",
      "  saturated = self.counts / (1. * self.trials[:,np.newaxis])\n",
      "/Users/jonathantaylor/git-repos/regreg/regreg/smooth/glm.py:1114: RuntimeWarning: divide by zero encountered in log\n",
      "  loss_terms = np.log(saturated) * self.counts\n",
      "/Users/jonathantaylor/git-repos/regreg/regreg/smooth/glm.py:1114: RuntimeWarning: invalid value encountered in multiply\n",
      "  loss_terms = np.log(saturated) * self.counts\n"
     ]
    }
   ],
   "source": [
    "J = 2\n",
    "Y = np.random.randint(0,10,n*J).reshape((n,J))\n",
    "multX = rr.linear_transform(X, input_shape=(p,J-1))\n",
    "loss = rr.multinomial_loglike.linear(multX, counts=Y)\n",
    "solver = rr.FISTA(loss)\n",
    "solver.fit(tol=1e-6)\n",
    "multinomial_coefs = solver.composite.coefs.flatten()"
   ]
  },
  {
   "cell_type": "markdown",
   "metadata": {},
   "source": [
    "Here is the equivalent logistic regresison model."
   ]
  },
  {
   "cell_type": "code",
   "execution_count": 35,
   "metadata": {},
   "outputs": [
    {
     "name": "stderr",
     "output_type": "stream",
     "text": [
      "/Users/jonathantaylor/git-repos/regreg/regreg/smooth/glm.py:615: RuntimeWarning: invalid value encountered in true_divide\n",
      "  saturated = self.successes / self.trials\n"
     ]
    }
   ],
   "source": [
    "successes = Y[:,0]\n",
    "trials = np.sum(Y, axis=1)\n",
    "loss = rr.glm.logistic(X, successes, trials=trials)\n",
    "solver = rr.FISTA(loss)\n",
    "solver.fit(tol=1e-6)\n",
    "logistic_coefs = solver.composite.coefs"
   ]
  },
  {
   "cell_type": "markdown",
   "metadata": {},
   "source": [
    "Finally we can check that the two models gave the same coefficients"
   ]
  },
  {
   "cell_type": "code",
   "execution_count": 36,
   "metadata": {},
   "outputs": [
    {
     "name": "stdout",
     "output_type": "stream",
     "text": [
      "1.9565979769201473e-16\n"
     ]
    }
   ],
   "source": [
    "print(np.linalg.norm(multinomial_coefs - logistic_coefs) / np.linalg.norm(logistic_coefs))"
   ]
  },
  {
   "cell_type": "markdown",
   "metadata": {},
   "source": [
    "## Hinge loss\n",
    "\n",
    "The SVM can be parametrized various ways, one way to write it as a\n",
    "regression problem is to use the hinge loss:\n",
    "\n",
    "$$\n",
    "\\ell(r) = \\max(1-x, 0)\n",
    "$$"
   ]
  },
  {
   "cell_type": "code",
   "execution_count": 37,
   "metadata": {},
   "outputs": [
    {
     "data": {
      "text/plain": [
       "[<matplotlib.lines.Line2D at 0x1217762b0>]"
      ]
     },
     "execution_count": 37,
     "metadata": {},
     "output_type": "execute_result"
    }
   ],
   "source": [
    "hinge = lambda x: np.maximum(1-x, 0)\n",
    "fig = plt.figure(figsize=(9,6))\n",
    "ax = fig.gca()\n",
    "r = np.linspace(-1,2,100)\n",
    "ax.plot(r, hinge(r))"
   ]
  },
  {
   "cell_type": "markdown",
   "metadata": {},
   "source": [
    "The SVM loss is then\n",
    "\n",
    "$$\n",
    "\\ell(\\beta) = C \\sum_{i=1}^n h(Y_i X_i^T\\beta) + \\frac{1}{2} \\|\\beta\\|^2_2\n",
    "$$\n",
    "\n",
    "where $Y_i \\in \\{-1,1\\}$ and $X_i \\in \\mathbb{R}^p$ is one\n",
    "of the feature vectors.\n",
    "\n",
    "In regreg, the hinge loss can be represented by composition of some of\n",
    "the basic atoms. Specifcally, let\n",
    "$g:\\mathbb{R}^n \\rightarrow \\mathbb{R}$ be the sum of positive\n",
    "part function\n",
    "\n",
    "$$\n",
    "g(z) = \\sum_{i=1}^n\\max(z_i, 0).\n",
    "$$\n",
    "\n",
    "Then,\n",
    "\n",
    "$$\n",
    "  \\ell(\\beta) = g\\left(Y \\cdot X\\beta \\right)\n",
    "\n",
    "where the product in the parentheses is elementwise multiplication.\n",
    "$$"
   ]
  },
  {
   "cell_type": "code",
   "execution_count": 38,
   "metadata": {},
   "outputs": [
    {
     "data": {
      "text/latex": [
       "$$\\lambda_{} \\left(\\sum_{i=1}^{p} (X_{}\\beta - \\alpha_{})_i^+\\right)$$"
      ],
      "text/plain": [
       "affine_atom(positive_part((1,), lagrange=1.000000, offset=array([-1.])), array([[-1.]]))"
      ]
     },
     "execution_count": 38,
     "metadata": {},
     "output_type": "execute_result"
    }
   ],
   "source": [
    "linear_part = np.array([[-1.]])\n",
    "offset = np.array([1.])\n",
    "hinge_rep = rr.positive_part.affine(linear_part, offset, lagrange=1.)\n",
    "hinge_rep"
   ]
  },
  {
   "cell_type": "markdown",
   "metadata": {},
   "source": [
    "$$\n",
    "\\lambda_{} \\left(\\sum_{i=1}^{p} (X_{}\\beta - \\alpha_{})_i^+\\right)\n",
    "$$\n",
    "\n",
    "Let’s plot the loss to be sure it agrees with our original hinge."
   ]
  },
  {
   "cell_type": "code",
   "execution_count": 39,
   "metadata": {},
   "outputs": [
    {
     "data": {
      "image/png": "[encoded data removed]",
      "text/plain": [
       "<Figure size 648x432 with 1 Axes>"
      ]
     },
     "execution_count": 39,
     "metadata": {},
     "output_type": "execute_result"
    }
   ],
   "source": [
    "ax.plot(r, [hinge_rep.nonsmooth_objective(v) for v in r])\n",
    "fig"
   ]
  },
  {
   "cell_type": "markdown",
   "metadata": {},
   "source": [
    "Here is a vectorized version."
   ]
  },
  {
   "cell_type": "code",
   "execution_count": 40,
   "metadata": {},
   "outputs": [],
   "source": [
    "N = 1000\n",
    "P = 200\n",
    "Y = 2 * np.random.binomial(1, 0.5, size=(N,)) - 1.\n",
    "X = np.random.standard_normal((N,P))\n",
    "#X[Y==1] += np.array([30,-20] + (P-2)*[0])[np.newaxis,:]\n",
    "X -= X.mean(0)[np.newaxis, :]\n",
    "hinge_vec = rr.positive_part.affine(-Y[:, None] * X, np.ones_like(Y), lagrange=1.)"
   ]
  },
  {
   "cell_type": "code",
   "execution_count": 41,
   "metadata": {},
   "outputs": [
    {
     "data": {
      "text/plain": [
       "(6813.323424537586, 6813.323424537586)"
      ]
     },
     "execution_count": 41,
     "metadata": {},
     "output_type": "execute_result"
    }
   ],
   "source": [
    "beta = np.ones(X.shape[1])\n",
    "hinge_vec.nonsmooth_objective(beta), np.maximum(1 - Y * X.dot(beta), 0).sum()"
   ]
  },
  {
   "cell_type": "markdown",
   "metadata": {},
   "source": [
    "# Smoothed hinge\n",
    "\n",
    "For optimization, the hinge loss is not differentiable so it is often\n",
    "smoothed first.\n",
    "\n",
    "The smoothing is applicable to general functions of the form\n",
    "\n",
    "$$\n",
    "g(X\\beta-\\alpha) = g_{\\alpha}(X\\beta)\n",
    "$$\n",
    "\n",
    "where $g_{\\alpha}(z) = g(z-\\alpha)$ and is determined by a small\n",
    "quadratic term\n",
    "\n",
    "$$\n",
    "q(z) = \\frac{C_0}{2} \\|z-x_0\\|^2_2 + v_0^Tz + c_0.\n",
    "$$"
   ]
  },
  {
   "cell_type": "code",
   "execution_count": 42,
   "metadata": {},
   "outputs": [
    {
     "data": {
      "text/latex": [
       "\\begin{equation*} \\frac{L_{}}{2}\\|\\beta\\|^2_2 \\end{equation*} "
      ],
      "text/plain": [
       "identity_quadratic(0.500000, 0.0, 0.0, 0.000000)"
      ]
     },
     "execution_count": 42,
     "metadata": {},
     "output_type": "execute_result"
    }
   ],
   "source": [
    "epsilon = 0.5\n",
    "smoothing_quadratic = rr.identity_quadratic(epsilon, 0, 0, 0)\n",
    "smoothing_quadratic"
   ]
  },
  {
   "cell_type": "markdown",
   "metadata": {},
   "source": [
    "$$\n",
    "\\begin{equation*} \\frac{L_{}}{2}\\|\\beta\\|^2_2 \\end{equation*}\n",
    "$$\n",
    "\n",
    "The quadratic terms are determined by four parameters with\n",
    "$(C_0, x_0, v_0, c_0)$.\n",
    "\n",
    "Smoothing of the function by the quadratic $q$ is performed by\n",
    "Moreau smoothing:\n",
    "\n",
    "$$\n",
    "S(g_{\\alpha},q)(\\beta) = \\sup_{z \\in \\mathbb{R}^p} z^T\\beta - g^*_{\\alpha}(z) - q(z)\n",
    "$$\n",
    "\n",
    "where\n",
    "\n",
    "$$\n",
    "  g^*_{\\alpha}(z) = \\sup_{\\beta \\in \\mathbb{R}^p} z^T\\beta - g_{\\alpha}(\\beta)\n",
    "\n",
    "is the convex (Fenchel) conjugate of the composition :math:`g` with the\n",
    "$$\n",
    "\n",
    "translation by $-\\alpha$.\n",
    "\n",
    "The basic atoms in `regreg` know what their conjugate is. Our hinge\n",
    "loss, `hinge_rep`, is the composition of an `atom`, and an affine\n",
    "transform. This affine transform is split into two pieces, the linear\n",
    "part, stored as `linear_transform` and its offset stored as\n",
    "`atom.offset`. It is stored with `atom` as `atom` needs knowledge\n",
    "of this when computing proximal maps."
   ]
  },
  {
   "cell_type": "code",
   "execution_count": 43,
   "metadata": {},
   "outputs": [
    {
     "data": {
      "text/latex": [
       "$$\\lambda_{} \\left(\\sum_{i=1}^{p} (\\beta - \\alpha_{})_i^+\\right)$$"
      ],
      "text/plain": [
       "positive_part((1,), lagrange=1.000000, offset=array([-1.]))"
      ]
     },
     "execution_count": 43,
     "metadata": {},
     "output_type": "execute_result"
    }
   ],
   "source": [
    "hinge_rep.atom"
   ]
  },
  {
   "cell_type": "markdown",
   "metadata": {},
   "source": [
    "$$\n",
    "\\lambda_{} \\left(\\sum_{i=1}^{p} (\\beta - \\alpha_{})_i^+\\right)\n",
    "$$"
   ]
  },
  {
   "cell_type": "code",
   "execution_count": 44,
   "metadata": {},
   "outputs": [
    {
     "data": {
      "text/plain": [
       "array([-1.])"
      ]
     },
     "execution_count": 44,
     "metadata": {},
     "output_type": "execute_result"
    }
   ],
   "source": [
    "hinge_rep.atom.offset"
   ]
  },
  {
   "cell_type": "code",
   "execution_count": 45,
   "metadata": {},
   "outputs": [
    {
     "data": {
      "text/plain": [
       "array([[-1.]])"
      ]
     },
     "execution_count": 45,
     "metadata": {},
     "output_type": "execute_result"
    }
   ],
   "source": [
    "hinge_rep.linear_transform.linear_operator"
   ]
  },
  {
   "cell_type": "markdown",
   "metadata": {},
   "source": [
    "As we said before, `hinge_rep.atom` knows what its conjugate is"
   ]
  },
  {
   "cell_type": "code",
   "execution_count": 46,
   "metadata": {},
   "outputs": [
    {
     "data": {
      "text/latex": [
       "$$I^{\\infty}(\\left\\|\\beta\\right\\|_{\\infty} + I^{\\infty}\\left(\\min(\\beta) \\in [0,+\\infty)\\right)  \\leq \\delta_{}) + \\left \\langle \\eta_{}, \\beta \\right \\rangle$$"
      ],
      "text/plain": [
       "constrained_max((1,), bound=1.000000, offset=None, quadratic=identity_quadratic(0.000000, 0.0, array([-1.]), 0.000000))"
      ]
     },
     "execution_count": 46,
     "metadata": {},
     "output_type": "execute_result"
    }
   ],
   "source": [
    "hinge_conj = hinge_rep.atom.conjugate\n",
    "hinge_conj"
   ]
  },
  {
   "cell_type": "markdown",
   "metadata": {},
   "source": [
    "$$\n",
    "I^{\\infty}(\\left\\|\\beta\\right\\|_{\\infty} + I^{\\infty}\\left(\\min(\\beta) \\in [0,+\\infty)\\right)  \\leq \\delta_{}) + \\left \\langle \\eta_{}, \\beta \\right \\rangle\n",
    "$$\n",
    "\n",
    "The notation $I^{\\infty}$ denotes a constraint. The expression can\n",
    "therefore be parsed as a linear function $\\eta^T\\beta$ plus the\n",
    "function\n",
    "\n",
    "$$\n",
    "g^*(z) = \\begin{cases}\n",
    "0 & 0 \\leq z_i \\leq \\delta \\, \\forall i \\\\\n",
    "\\infty & \\text{otherwise.}\n",
    "\\end{cases}\n",
    "$$\n",
    "\n",
    "The term $\\eta$ is derived from `hinge_rep.atom.offset` and is\n",
    "stored in `hinge_conj.quadratic`."
   ]
  },
  {
   "cell_type": "code",
   "execution_count": 47,
   "metadata": {},
   "outputs": [
    {
     "data": {
      "text/plain": [
       "array([-1.])"
      ]
     },
     "execution_count": 47,
     "metadata": {},
     "output_type": "execute_result"
    }
   ],
   "source": [
    "hinge_conj.quadratic.linear_term"
   ]
  },
  {
   "cell_type": "markdown",
   "metadata": {},
   "source": [
    "Now, let’s look at the smoothed hinge loss."
   ]
  },
  {
   "cell_type": "code",
   "execution_count": 48,
   "metadata": {},
   "outputs": [
    {
     "data": {
      "text/latex": [
       "$$ \\sup_{u \\in \\mathbb{R}^{p} } \\left[ \\langle X_{}\\beta, u \\rangle - \\left(I^{\\infty}(\\left\\|u\\right\\|_{\\infty} + I^{\\infty}\\left(\\min(u) \\in [0,+\\infty)\\right)  \\leq \\delta_{}) + \\frac{L_{}}{2}\\|u\\|^2_2 + \\left \\langle \\eta_{}, u \\right \\rangle \\right) \\right]$$"
      ],
      "text/plain": [
       "affine_smooth(smooth_conjugate(constrained_max((1,), bound=1.000000, offset=None, quadratic=identity_quadratic(0.500000, 0.0, array([-1.]), 0.000000)),identity_quadratic(0.500000, 0.0, array([-1.]), 0.000000)), <regreg.affine.linear_transform object at 0x12135e550>, store_grad=True)"
      ]
     },
     "execution_count": 48,
     "metadata": {},
     "output_type": "execute_result"
    }
   ],
   "source": [
    "smoothed_hinge_loss = hinge_rep.smoothed(smoothing_quadratic)\n",
    "smoothed_hinge_loss"
   ]
  },
  {
   "cell_type": "markdown",
   "metadata": {},
   "source": [
    "$$\n",
    "\\sup_{u \\in \\mathbb{R}^{p} } \\left[ \\langle X_{}\\beta, u \\rangle - \\left(I^{\\infty}(\\left\\|u\\right\\|_{\\infty} + I^{\\infty}\\left(\\min(u) \\in [0,+\\infty)\\right)  \\leq \\delta_{}) + \\frac{L_{}}{2}\\|u\\|^2_2 + \\left \\langle \\eta_{}, u \\right \\rangle \\right) \\right]\n",
    "$$\n",
    "\n",
    "It is now a smooth function and its objective value and gradient can be\n",
    "computed with `smooth_objective`."
   ]
  },
  {
   "cell_type": "code",
   "execution_count": 49,
   "metadata": {},
   "outputs": [
    {
     "data": {
      "image/png": "[encoded data removed]",
      "text/plain": [
       "<Figure size 648x432 with 1 Axes>"
      ]
     },
     "execution_count": 49,
     "metadata": {},
     "output_type": "execute_result"
    }
   ],
   "source": [
    "ax.plot(r, [smoothed_hinge_loss.smooth_objective(v, 'func') for v in r])\n",
    "fig"
   ]
  },
  {
   "cell_type": "code",
   "execution_count": 50,
   "metadata": {},
   "outputs": [
    {
     "data": {
      "image/png": "[encoded data removed]",
      "text/plain": [
       "<Figure size 648x432 with 1 Axes>"
      ]
     },
     "execution_count": 50,
     "metadata": {},
     "output_type": "execute_result"
    }
   ],
   "source": [
    "less_smooth = hinge_rep.smoothed(rr.identity_quadratic(5.e-2, 0, 0, 0))\n",
    "ax.plot(r, [less_smooth.smooth_objective(v, 'func') for v in r])\n",
    "fig"
   ]
  },
  {
   "cell_type": "markdown",
   "metadata": {},
   "source": [
    "# Fitting the SVM\n",
    "\n",
    "We can now minimize this objective."
   ]
  },
  {
   "cell_type": "code",
   "execution_count": 51,
   "metadata": {},
   "outputs": [],
   "source": [
    "smoothed_vec = hinge_vec.smoothed(rr.identity_quadratic(0.2, 0, 0, 0))\n",
    "soln = smoothed_vec.solve(tol=1.e-12, min_its=100)"
   ]
  },
  {
   "cell_type": "markdown",
   "metadata": {},
   "source": [
    "# Sparse SVM\n",
    "\n",
    "We might want to fit a sparse version, adding a sparsifying penalty like\n",
    "the LASSO. This yields the problem\n",
    "\n",
    "$$\n",
    "\\text{minimize}_{\\beta} \\ell(\\beta) + \\lambda \\|\\beta\\|_1\n",
    "$$"
   ]
  },
  {
   "cell_type": "code",
   "execution_count": 52,
   "metadata": {},
   "outputs": [
    {
     "data": {
      "text/latex": [
       "$$\n",
       "\\begin{aligned}\n",
       "\\text{minimize}_{\\beta} & f(\\beta) + g(\\beta) \\\\\n",
       "f(\\beta) &=  \\sup_{u \\in \\mathbb{R}^{p} } \\left[ \\langle X_{1}\\beta, u \\rangle - \\left(I^{\\infty}(\\left\\|u\\right\\|_{\\infty} + I^{\\infty}\\left(\\min(u) \\in [0,+\\infty)\\right)  \\leq \\delta_{1}) + \\frac{L_{1}}{2}\\|u\\|^2_2 + \\left \\langle \\eta_{1}, u \\right \\rangle \\right) \\right] \\\\\n",
       "g(\\beta) &= \\lambda_{2} \\|\\beta\\|_1 \\\\\n",
       "\\end{aligned}\n",
       "$$"
      ],
      "text/plain": [
       "<regreg.problems.simple.simple_problem at 0x121957898>"
      ]
     },
     "execution_count": 52,
     "metadata": {},
     "output_type": "execute_result"
    }
   ],
   "source": [
    "penalty = rr.l1norm(smoothed_vec.shape, lagrange=20)\n",
    "problem = rr.simple_problem(smoothed_vec, penalty)\n",
    "problem"
   ]
  },
  {
   "cell_type": "markdown",
   "metadata": {},
   "source": [
    "$$\n",
    "\\begin{aligned}\n",
    "\\text{minimize}_{\\beta} & f(\\beta) + g(\\beta) \\\\\n",
    "f(\\beta) &=  \\sup_{u \\in \\mathbb{R}^{p} } \\left[ \\langle X_{1}\\beta, u \\rangle - \\left(I^{\\infty}(\\left\\|u\\right\\|_{\\infty} + I^{\\infty}\\left(\\min(u) \\in [0,+\\infty)\\right)  \\leq \\delta_{1}) + \\frac{L_{1}}{2}\\|u\\|^2_2 + \\left \\langle \\eta_{1}, u \\right \\rangle \\right) \\right] \\\\\n",
    "g(\\beta) &= \\lambda_{2} \\|\\beta\\|_1 \\\\\n",
    "\\end{aligned}\n",
    "$$"
   ]
  },
  {
   "cell_type": "code",
   "execution_count": 53,
   "metadata": {},
   "outputs": [
    {
     "data": {
      "text/plain": [
       "array([-0.11794475,  0.08667502,  0.        , -0.0634286 ,  0.04145064,\n",
       "        0.        ,  0.12536322, -0.        ,  0.        , -0.09668681,\n",
       "        0.05306269,  0.        , -0.01064823, -0.        ,  0.0377666 ,\n",
       "        0.        , -0.08346559, -0.1200484 ,  0.        , -0.00345114,\n",
       "        0.        , -0.        , -0.        , -0.02736643,  0.01014732,\n",
       "       -0.0830704 ,  0.        ,  0.        , -0.05251217, -0.        ,\n",
       "        0.03145735, -0.01476226,  0.        ,  0.04094988, -0.09225357,\n",
       "        0.16668443, -0.0068806 ,  0.        , -0.06944853, -0.        ,\n",
       "        0.        ,  0.        ,  0.        ,  0.06859081,  0.        ,\n",
       "       -0.        , -0.02868384, -0.        ,  0.05566649,  0.        ,\n",
       "       -0.        , -0.        , -0.06390489, -0.        ,  0.        ,\n",
       "       -0.13076543,  0.        ,  0.05820014, -0.03504912, -0.        ,\n",
       "        0.00298815,  0.06577031,  0.        ,  0.        , -0.02236921,\n",
       "        0.        , -0.        , -0.        ,  0.00310002, -0.        ,\n",
       "        0.        ,  0.03470329,  0.12713361,  0.        ,  0.        ,\n",
       "       -0.00590934,  0.09227397, -0.        ,  0.        , -0.        ,\n",
       "       -0.        , -0.        , -0.08209436,  0.        ,  0.        ,\n",
       "       -0.        , -0.        ,  0.        ,  0.        ,  0.00291966,\n",
       "       -0.        ,  0.        ,  0.        ,  0.        ,  0.0123154 ,\n",
       "       -0.        , -0.        , -0.        ,  0.        ,  0.05862961,\n",
       "        0.00557241, -0.        ,  0.        ,  0.04873143, -0.07727929,\n",
       "       -0.08051248, -0.0108722 ,  0.        ,  0.        , -0.12305824,\n",
       "        0.02206252,  0.0209065 ,  0.        ,  0.05100838, -0.        ,\n",
       "        0.04406697,  0.00463305, -0.        ,  0.        , -0.07109647,\n",
       "       -0.02693662,  0.        ,  0.        , -0.        ,  0.10813817,\n",
       "       -0.00420924, -0.09335061, -0.1076696 , -0.        ,  0.        ,\n",
       "       -0.00132466,  0.11999136,  0.        , -0.10466986,  0.        ,\n",
       "        0.        , -0.00742986,  0.14161097,  0.        , -0.        ,\n",
       "        0.        , -0.0744488 ,  0.        ,  0.05240747, -0.        ,\n",
       "       -0.        ,  0.        , -0.05325711, -0.        , -0.00335929,\n",
       "       -0.        ,  0.02508744, -0.02740809, -0.        , -0.05282792,\n",
       "        0.        , -0.1025743 , -0.        ,  0.        ,  0.09375117,\n",
       "       -0.19386661,  0.        ,  0.        ,  0.        ,  0.        ,\n",
       "        0.0172358 , -0.06139685,  0.        ,  0.        ,  0.        ,\n",
       "       -0.        , -0.01383084,  0.        , -0.00907931,  0.        ,\n",
       "       -0.06658488, -0.00588045,  0.        ,  0.03005927, -0.13127342,\n",
       "        0.01499859, -0.11638599,  0.        , -0.07997269,  0.00033085,\n",
       "       -0.05006203, -0.03970144, -0.        ,  0.        ,  0.04083319,\n",
       "       -0.11504934, -0.10957298,  0.        ,  0.        , -0.05774499,\n",
       "       -0.        , -0.        ,  0.        , -0.0003005 ,  0.        ])"
      ]
     },
     "execution_count": 53,
     "metadata": {},
     "output_type": "execute_result"
    }
   ],
   "source": [
    "sparse_soln = problem.solve(tol=1.e-12)\n",
    "sparse_soln"
   ]
  },
  {
   "cell_type": "markdown",
   "metadata": {},
   "source": [
    "What value of $\\lambda$ should we use? For the $\\ell_1$\n",
    "penalty in Lagrange form, the smallest $\\lambda$ such that the\n",
    "solution is zero can be found by taking the dual norm, the\n",
    "$\\ell_{\\infty}$ norm, of the gradient of the smooth part at 0."
   ]
  },
  {
   "cell_type": "code",
   "execution_count": 54,
   "metadata": {},
   "outputs": [
    {
     "data": {
      "text/latex": [
       "$$I^{\\infty}(\\|\\beta\\|_{\\infty} \\leq \\delta_{})$$"
      ],
      "text/plain": [
       "supnorm((200,), bound=20.000000, offset=None)"
      ]
     },
     "execution_count": 54,
     "metadata": {},
     "output_type": "execute_result"
    }
   ],
   "source": [
    "linf_norm = penalty.conjugate\n",
    "linf_norm"
   ]
  },
  {
   "cell_type": "markdown",
   "metadata": {},
   "source": [
    "$$\n",
    "I^{\\infty}(\\|\\beta\\|_{\\infty} \\leq \\delta_{})\n",
    "$$\n",
    "\n",
    "Just computing the conjugate will yield an $\\ell_{\\infty}$\n",
    "constraint, but this object can still be used to compute the desired\n",
    "value of $\\lambda$."
   ]
  },
  {
   "cell_type": "code",
   "execution_count": 55,
   "metadata": {},
   "outputs": [
    {
     "data": {
      "text/plain": [
       "90.06739154192712"
      ]
     },
     "execution_count": 55,
     "metadata": {},
     "output_type": "execute_result"
    }
   ],
   "source": [
    "score_at_zero = smoothed_vec.smooth_objective(np.zeros(smoothed_vec.shape), 'grad')\n",
    "lam_max = linf_norm.seminorm(score_at_zero, lagrange=1.)\n",
    "lam_max"
   ]
  },
  {
   "cell_type": "code",
   "execution_count": 56,
   "metadata": {},
   "outputs": [
    {
     "data": {
      "text/plain": [
       "array([-0.,  0., -0., -0.,  0.,  0.,  0., -0.,  0., -0.,  0., -0., -0.,\n",
       "        0.,  0., -0., -0., -0., -0., -0.,  0.,  0., -0., -0.,  0., -0.,\n",
       "        0.,  0., -0., -0.,  0., -0., -0.,  0., -0.,  0., -0.,  0., -0.,\n",
       "       -0., -0.,  0., -0.,  0.,  0.,  0., -0.,  0.,  0.,  0., -0., -0.,\n",
       "       -0., -0., -0., -0., -0.,  0., -0., -0.,  0.,  0.,  0.,  0., -0.,\n",
       "       -0., -0., -0.,  0., -0.,  0.,  0.,  0.,  0.,  0., -0.,  0., -0.,\n",
       "        0., -0., -0., -0., -0.,  0.,  0., -0., -0.,  0.,  0.,  0., -0.,\n",
       "        0., -0.,  0.,  0.,  0., -0., -0.,  0.,  0.,  0., -0., -0.,  0.,\n",
       "       -0., -0., -0.,  0.,  0., -0.,  0.,  0.,  0.,  0., -0.,  0.,  0.,\n",
       "       -0.,  0., -0., -0.,  0., -0., -0.,  0., -0., -0., -0., -0.,  0.,\n",
       "       -0.,  0., -0., -0.,  0.,  0., -0.,  0.,  0., -0., -0., -0.,  0.,\n",
       "        0., -0.,  0.,  0., -0., -0., -0., -0.,  0., -0., -0., -0., -0.,\n",
       "       -0., -0.,  0.,  0., -0.,  0.,  0.,  0., -0.,  0., -0.,  0.,  0.,\n",
       "        0., -0., -0.,  0., -0.,  0., -0., -0.,  0.,  0., -0.,  0., -0.,\n",
       "        0., -0.,  0., -0., -0., -0.,  0.,  0., -0., -0.,  0.,  0., -0.,\n",
       "        0.,  0.,  0., -0.,  0.])"
      ]
     },
     "execution_count": 56,
     "metadata": {},
     "output_type": "execute_result"
    }
   ],
   "source": [
    "penalty.lagrange = lam_max * 1.001\n",
    "problem.solve(tol=1.e-12, min_its=200)"
   ]
  },
  {
   "cell_type": "code",
   "execution_count": 57,
   "metadata": {},
   "outputs": [
    {
     "data": {
      "text/plain": [
       "array([-0.        ,  0.        , -0.        , -0.        ,  0.        ,\n",
       "        0.        ,  0.        , -0.        ,  0.        , -0.        ,\n",
       "        0.        , -0.        , -0.        ,  0.        ,  0.        ,\n",
       "       -0.        , -0.        , -0.        , -0.        , -0.        ,\n",
       "        0.        ,  0.        , -0.        , -0.        ,  0.        ,\n",
       "       -0.        ,  0.        ,  0.        , -0.        , -0.        ,\n",
       "        0.        , -0.        , -0.        ,  0.        , -0.        ,\n",
       "        0.        , -0.        ,  0.        , -0.        , -0.        ,\n",
       "       -0.        ,  0.        , -0.        ,  0.        ,  0.        ,\n",
       "        0.        , -0.        ,  0.        ,  0.        ,  0.        ,\n",
       "       -0.        , -0.        , -0.        , -0.        , -0.        ,\n",
       "       -0.        , -0.        ,  0.        , -0.        , -0.        ,\n",
       "        0.        ,  0.        ,  0.        ,  0.        , -0.        ,\n",
       "       -0.        , -0.        , -0.        ,  0.        , -0.        ,\n",
       "        0.        ,  0.        ,  0.        ,  0.        ,  0.        ,\n",
       "       -0.        ,  0.        , -0.        ,  0.        , -0.        ,\n",
       "       -0.        , -0.        , -0.        ,  0.        ,  0.        ,\n",
       "       -0.        , -0.        ,  0.        ,  0.        ,  0.        ,\n",
       "       -0.        ,  0.        , -0.        ,  0.        ,  0.        ,\n",
       "        0.        , -0.        , -0.        ,  0.        ,  0.        ,\n",
       "        0.        , -0.        , -0.        ,  0.        , -0.        ,\n",
       "       -0.        , -0.        ,  0.        ,  0.        , -0.        ,\n",
       "        0.        ,  0.        ,  0.        ,  0.        , -0.        ,\n",
       "        0.        ,  0.        , -0.        ,  0.        , -0.        ,\n",
       "       -0.        ,  0.        , -0.        , -0.        ,  0.        ,\n",
       "       -0.        , -0.        , -0.        , -0.        ,  0.        ,\n",
       "       -0.        ,  0.        , -0.        , -0.        ,  0.        ,\n",
       "        0.        , -0.        ,  0.        ,  0.        , -0.        ,\n",
       "       -0.        , -0.        ,  0.        ,  0.        , -0.        ,\n",
       "        0.        ,  0.        , -0.        , -0.        , -0.        ,\n",
       "       -0.        ,  0.        , -0.        , -0.        , -0.        ,\n",
       "       -0.        , -0.        , -0.        ,  0.        ,  0.        ,\n",
       "       -0.25288433,  0.        ,  0.        ,  0.        , -0.        ,\n",
       "        0.        , -0.        , -0.        ,  0.        ,  0.        ,\n",
       "       -0.        , -0.        ,  0.        , -0.        ,  0.        ,\n",
       "       -0.        , -0.        ,  0.        ,  0.        , -0.        ,\n",
       "        0.        , -0.        ,  0.        , -0.        ,  0.        ,\n",
       "       -0.        , -0.        , -0.        ,  0.        ,  0.        ,\n",
       "       -0.        , -0.        ,  0.        ,  0.        , -0.        ,\n",
       "        0.        ,  0.        ,  0.        , -0.        ,  0.        ])"
      ]
     },
     "execution_count": 57,
     "metadata": {},
     "output_type": "execute_result"
    }
   ],
   "source": [
    "penalty.lagrange = lam_max * 0.99\n",
    "problem.solve(tol=1.e-12, min_its=200)"
   ]
  },
  {
   "cell_type": "markdown",
   "metadata": {},
   "source": [
    "## Path of solutions\n",
    "\n",
    "If we want a path of solutions, we can simply take multiples of\n",
    "`lam_max`. This is similar to the strategy that packages like\n",
    "`glmnet` use"
   ]
  },
  {
   "cell_type": "code",
   "execution_count": 58,
   "metadata": {},
   "outputs": [],
   "source": [
    "path = []\n",
    "lam_vals = (np.linspace(0.05, 1.01, 50) * lam_max)[::-1]\n",
    "for lam_val in lam_vals:\n",
    "    penalty.lagrange = lam_val\n",
    "    path.append(problem.solve(min_its=200).copy())\n",
    "fig = plt.figure(figsize=(12,8))\n",
    "ax = fig.gca()\n",
    "path = np.array(path)\n",
    "ax.plot(path);"
   ]
  },
  {
   "cell_type": "markdown",
   "metadata": {},
   "source": [
    "Changing the penalty\n",
    "\n",
    "We may not want to penalize features the same. We may want some features\n",
    "to be unpenalized. This can be achieved by introducing possibly non-zero\n",
    "feature weights to the $\\ell_1$ norm\n",
    "\n",
    "$$\n",
    "\\beta \\mapsto \\sum_{j=1}^p w_j|\\beta_j|\n",
    "$$"
   ]
  },
  {
   "cell_type": "code",
   "execution_count": 59,
   "metadata": {},
   "outputs": [
    {
     "data": {
      "text/latex": [
       "$$\\lambda_{} \\|W\\beta\\|_1$$"
      ],
      "text/plain": [
       "l1norm([0.         0.         0.         0.         0.         1.87296458\n",
       " 1.18891642 1.91698625 1.70801345 1.57996509 1.08922197 1.83593569\n",
       " 1.10172778 1.95641938 1.71838292 1.66352323 1.70349313 1.80109366\n",
       " 1.25404202 1.25903633 1.65460983 1.6920795  1.41797663 1.92520815\n",
       " 1.7335934  1.29442753 1.44168013 1.60128268 1.66240986 1.16660547\n",
       " 1.27271487 1.00144935 1.52929368 1.25449996 1.19666245 1.77042046\n",
       " 1.8229748  1.47209586 1.14098216 1.77038834 1.03449807 1.79150344\n",
       " 1.12021593 1.59620413 1.16008248 1.52955354 1.5361846  1.84017027\n",
       " 1.69099274 1.72173419 1.63190979 1.04230409 1.99959201 1.1458063\n",
       " 1.75472996 1.44436963 1.17142941 1.41738061 1.0372572  1.45189326\n",
       " 1.26096963 1.80290619 1.5144726  1.78357967 1.49870195 1.81307546\n",
       " 1.42599743 1.8702529  1.36186565 1.12848694 1.61653581 1.2054714\n",
       " 1.29042584 1.67678491 1.25786305 1.05517905 1.19010324 1.48372219\n",
       " 1.93900183 1.51204541 1.79871647 1.39977394 1.34848333 1.38318479\n",
       " 1.88176022 1.50036102 1.55659098 1.64742839 1.09221121 1.68319653\n",
       " 1.66184415 1.01461985 1.28655637 1.49607169 1.6651781  1.08469433\n",
       " 1.34185327 1.39905373 1.52923108 1.60075428 1.04987568 1.34219995\n",
       " 1.09679974 1.2448212  1.11402305 1.20058077 1.15406651 1.68017224\n",
       " 1.00409859 1.29742231 1.45471301 1.87166352 1.9113602  1.41554371\n",
       " 1.07186285 1.93027428 1.55599441 1.27159961 1.34832678 1.22285305\n",
       " 1.48721868 1.89474621 1.68320802 1.13343124 1.75167968 1.51324\n",
       " 1.61231264 1.04464657 1.0119143  1.88908859 1.60880355 1.30845234\n",
       " 1.54563343 1.11150093 1.18470559 1.68569635 1.54448152 1.29167077\n",
       " 1.47906838 1.92328934 1.56755271 1.50680326 1.32593101 1.07949459\n",
       " 1.27494446 1.83536675 1.64533382 1.58360528 1.21259956 1.00372708\n",
       " 1.18756043 1.64597364 1.10947498 1.04607914 1.76306777 1.21024178\n",
       " 1.96789988 1.71197462 1.55198414 1.49410367 1.66192441 1.52064849\n",
       " 1.81301853 1.32968657 1.65466259 1.83444705 1.33136711 1.92498438\n",
       " 1.64212022 1.09542385 1.55364069 1.54028077 1.44249832 1.02330522\n",
       " 1.52276395 1.21313977 1.01238264 1.52622176 1.58362862 1.29791821\n",
       " 1.18449863 1.20629252 1.86270807 1.47676334 1.77096636 1.6468548\n",
       " 1.39530309 1.84052028 1.77438504 1.71437471 1.01895186 1.54508697\n",
       " 1.45210867 1.44212817 1.56691066 1.05774286 1.21836888 1.50234326\n",
       " 1.2819072  1.92155648], lagrange=1.000000, offset=None, quadratic=identity_quadratic(0.000000, 0.0, 0.0, 0.000000))"
      ]
     },
     "execution_count": 59,
     "metadata": {},
     "output_type": "execute_result"
    }
   ],
   "source": [
    "weights = np.random.sample(P) + 1.\n",
    "weights[:5] = 0.\n",
    "weighted_penalty = rr.weighted_l1norm(weights, lagrange=1.)\n",
    "weighted_penalty"
   ]
  },
  {
   "cell_type": "markdown",
   "metadata": {},
   "source": [
    "$$\n",
    "\\lambda_{} \\|W\\beta\\|_1\n",
    "$$"
   ]
  },
  {
   "cell_type": "code",
   "execution_count": 60,
   "metadata": {},
   "outputs": [
    {
     "data": {
      "text/latex": [
       "$$I^{\\infty}(\\|W\\beta\\|_{\\infty} \\leq \\delta_{})$$"
      ],
      "text/plain": [
       "supnorm([       inf        inf        inf        inf        inf 0.53391293\n",
       " 0.84110202 0.52165215 0.58547548 0.63292538 0.91808651 0.54468139\n",
       " 0.90766523 0.51113785 0.58194247 0.60113378 0.58702908 0.55521821\n",
       " 0.79742144 0.79425825 0.60437209 0.59098878 0.70523024 0.51942435\n",
       " 0.57683653 0.77254228 0.69363514 0.62449935 0.60153637 0.85718782\n",
       " 0.78572194 0.99855275 0.65389664 0.79713036 0.83565754 0.56483757\n",
       " 0.54855393 0.67930359 0.87643789 0.56484782 0.96665236 0.55819039\n",
       " 0.89268504 0.62648629 0.86200767 0.65378555 0.65096343 0.54342797\n",
       " 0.59136859 0.58080975 0.61277897 0.95941291 0.50010202 0.87274787\n",
       " 0.56988826 0.69234355 0.85365792 0.7055268  0.96408104 0.68875587\n",
       " 0.79304051 0.55466003 0.66029587 0.56067022 0.66724408 0.55154902\n",
       " 0.70126354 0.53468705 0.73428682 0.88614229 0.61860677 0.829551\n",
       " 0.77493799 0.59637941 0.7949991  0.94770646 0.84026323 0.67398062\n",
       " 0.51572927 0.6613558  0.55595199 0.71440107 0.74157387 0.7229692\n",
       " 0.53141733 0.66650625 0.64242952 0.60700666 0.91557383 0.59410769\n",
       " 0.60174114 0.98559081 0.7772687  0.66841716 0.60053636 0.92191871\n",
       " 0.74523797 0.71476883 0.65392341 0.6247055  0.95249373 0.74504548\n",
       " 0.91174347 0.80332822 0.89764749 0.83293021 0.86650118 0.59517708\n",
       " 0.99591814 0.77075906 0.68742081 0.53428407 0.52318762 0.70644233\n",
       " 0.93295518 0.51806109 0.64267583 0.78641106 0.74165997 0.81775975\n",
       " 0.67239607 0.52777517 0.59410363 0.88227672 0.57088063 0.66083371\n",
       " 0.62022711 0.95726155 0.98822598 0.5293558  0.62157993 0.76426169\n",
       " 0.64698394 0.89968436 0.84409157 0.59322665 0.64746647 0.77419109\n",
       " 0.67610126 0.51994257 0.63793708 0.66365665 0.75418705 0.92635944\n",
       " 0.78434789 0.54485023 0.6077794  0.63147049 0.82467455 0.99628676\n",
       " 0.84206241 0.60754314 0.90132722 0.95595062 0.56719317 0.82628118\n",
       " 0.50815593 0.58412081 0.64433648 0.6692976  0.60171209 0.65761417\n",
       " 0.55156634 0.75205693 0.60435282 0.54512339 0.75110763 0.51948473\n",
       " 0.60896881 0.91288865 0.64364947 0.64923228 0.69324171 0.97722555\n",
       " 0.6567006  0.82430733 0.98776882 0.65521278 0.63146118 0.77046457\n",
       " 0.84423905 0.82898632 0.53685278 0.67715657 0.56466346 0.60721808\n",
       " 0.71669016 0.54332463 0.56357554 0.58330305 0.98140064 0.64721276\n",
       " 0.6886537  0.69341964 0.63819848 0.94540936 0.82076949 0.66562684\n",
       " 0.78008767 0.52041145], bound=1.000000, offset=None, quadratic=identity_quadratic(0.000000, 0.0, 0.0, 0.000000))"
      ]
     },
     "execution_count": 60,
     "metadata": {},
     "output_type": "execute_result"
    }
   ],
   "source": [
    "weighted_dual = weighted_penalty.conjugate\n",
    "weighted_dual"
   ]
  },
  {
   "cell_type": "markdown",
   "metadata": {},
   "source": [
    "$$\n",
    "I^{\\infty}(\\|W\\beta\\|_{\\infty} \\leq \\delta_{})\n",
    "$$"
   ]
  },
  {
   "cell_type": "code",
   "execution_count": 61,
   "metadata": {},
   "outputs": [
    {
     "data": {
      "text/plain": [
       "67.27348860880447"
      ]
     },
     "execution_count": 61,
     "metadata": {},
     "output_type": "execute_result"
    }
   ],
   "source": [
    "lam_max_weight = weighted_dual.seminorm(score_at_zero, lagrange=1.)\n",
    "lam_max_weight"
   ]
  },
  {
   "cell_type": "code",
   "execution_count": 62,
   "metadata": {},
   "outputs": [],
   "source": [
    "weighted_problem = rr.simple_problem(smoothed_vec, weighted_penalty)\n",
    "path = []\n",
    "lam_vals = (np.linspace(0.05, 1.01, 50) * lam_max_weight)[::-1]\n",
    "for lam_val in lam_vals:\n",
    "    weighted_penalty.lagrange = lam_val\n",
    "    path.append(weighted_problem.solve(min_its=200).copy())\n",
    "fig = plt.figure(figsize=(12,8))\n",
    "ax = fig.gca()\n",
    "path = np.array(path)\n",
    "ax.plot(path);"
   ]
  },
  {
   "cell_type": "markdown",
   "metadata": {},
   "source": [
    "Note that there are 5 coefficients that are not penalized hence they are\n",
    "nonzero the entire path.\n",
    "\n",
    "Variables may come in groups. A common penalty for this setting is the\n",
    "group LASSO. Let\n",
    "\n",
    "$$\n",
    "\\{1, \\dots, p\\} = \\cup_{g \\in G} g\n",
    "$$\n",
    "\n",
    "be a partition of the set of features and $w_g$ a weight for each\n",
    "group. The group LASSO penalty is\n",
    "\n",
    "$$\n",
    "\\beta \\mapsto \\sum_{g \\in G} w_g \\|\\beta_g\\|_2.\n",
    "$$"
   ]
  },
  {
   "cell_type": "code",
   "execution_count": 63,
   "metadata": {},
   "outputs": [],
   "source": [
    "groups = []\n",
    "for i in range(int(P/5)):\n",
    "    groups.extend([i]*5)\n",
    "weights = dict([g, np.random.sample()+1] for g in np.unique(groups))\n",
    "group_penalty = rr.group_lasso(groups, weights=weights, lagrange=1.)"
   ]
  },
  {
   "cell_type": "code",
   "execution_count": 64,
   "metadata": {},
   "outputs": [],
   "source": [
    "group_dual = group_penalty.conjugate\n",
    "lam_max_group = group_dual.seminorm(score_at_zero, lagrange=1.)"
   ]
  },
  {
   "cell_type": "code",
   "execution_count": 65,
   "metadata": {},
   "outputs": [],
   "source": [
    "group_problem = rr.simple_problem(smoothed_vec, group_penalty)\n",
    "path = []\n",
    "lam_vals = (np.linspace(0.05, 1.01, 50) * lam_max_group)[::-1]\n",
    "for lam_val in lam_vals:\n",
    "    group_penalty.lagrange = lam_val\n",
    "    path.append(group_problem.solve(min_its=200).copy())\n",
    "fig = plt.figure(figsize=(12,8))\n",
    "ax = fig.gca()\n",
    "path = np.array(path)\n",
    "ax.plot(path);"
   ]
  },
  {
   "cell_type": "markdown",
   "metadata": {},
   "source": [
    "As expected, variables enter in groups here.\n",
    "\n",
    "## Bound form\n",
    "\n",
    "The common norm atoms also have a bound form. That is, we can just as\n",
    "easily solve the problem\n",
    "\n",
    "$$\n",
    "\\text{minimize}_{\\beta: \\|\\beta\\|_1 \\leq \\delta}\\ell(\\beta)\n",
    "$$"
   ]
  },
  {
   "cell_type": "code",
   "execution_count": 66,
   "metadata": {},
   "outputs": [
    {
     "data": {
      "text/latex": [
       "$$I^{\\infty}(\\|\\beta\\|_1 \\leq \\delta_{})$$"
      ],
      "text/plain": [
       "l1norm((200,), bound=2.000000, offset=None)"
      ]
     },
     "execution_count": 66,
     "metadata": {},
     "output_type": "execute_result"
    }
   ],
   "source": [
    "bound_l1 = rr.l1norm(P, bound=2.)\n",
    "bound_l1"
   ]
  },
  {
   "cell_type": "markdown",
   "metadata": {},
   "source": [
    "$$\n",
    "I^{\\infty}(\\|\\beta\\|_1 \\leq \\delta_{})\n",
    "$$"
   ]
  },
  {
   "cell_type": "code",
   "execution_count": 67,
   "metadata": {},
   "outputs": [
    {
     "data": {
      "text/latex": [
       "$$\n",
       "\\begin{aligned}\n",
       "\\text{minimize}_{\\beta} & f(\\beta) + g(\\beta) \\\\\n",
       "f(\\beta) &=  \\sup_{u \\in \\mathbb{R}^{p} } \\left[ \\langle X_{1}\\beta, u \\rangle - \\left(I^{\\infty}(\\left\\|u\\right\\|_{\\infty} + I^{\\infty}\\left(\\min(u) \\in [0,+\\infty)\\right)  \\leq \\delta_{1}) + \\frac{L_{1}}{2}\\|u\\|^2_2 + \\left \\langle \\eta_{1}, u \\right \\rangle \\right) \\right] \\\\\n",
       "g(\\beta) &= I^{\\infty}(\\|\\beta\\|_1 \\leq \\delta_{2}) \\\\\n",
       "\\end{aligned}\n",
       "$$"
      ],
      "text/plain": [
       "<regreg.problems.simple.simple_problem at 0x124182320>"
      ]
     },
     "execution_count": 67,
     "metadata": {},
     "output_type": "execute_result"
    }
   ],
   "source": [
    "bound_problem = rr.simple_problem(smoothed_vec, bound_l1)\n",
    "bound_problem"
   ]
  },
  {
   "cell_type": "markdown",
   "metadata": {},
   "source": [
    "$$\n",
    "\\begin{aligned}\n",
    "\\text{minimize}_{\\beta} & f(\\beta) + g(\\beta) \\\\\n",
    "f(\\beta) &=  \\sup_{u \\in \\mathbb{R}^{p} } \\left[ \\langle X_{1}\\beta, u \\rangle - \\left(I^{\\infty}(\\left\\|u\\right\\|_{\\infty} + I^{\\infty}\\left(\\min(u) \\in [0,+\\infty)\\right)  \\leq \\delta_{1}) + \\frac{L_{1}}{2}\\|u\\|^2_2 + \\left \\langle \\eta_{1}, u \\right \\rangle \\right) \\right] \\\\\n",
    "g(\\beta) &= I^{\\infty}(\\|\\beta\\|_1 \\leq \\delta_{2}) \\\\\n",
    "\\end{aligned}\n",
    "$$"
   ]
  },
  {
   "cell_type": "code",
   "execution_count": 68,
   "metadata": {},
   "outputs": [
    {
     "data": {
      "text/plain": [
       "2.0000000000000004"
      ]
     },
     "execution_count": 68,
     "metadata": {},
     "output_type": "execute_result"
    }
   ],
   "source": [
    "bound_soln = bound_problem.solve()\n",
    "np.fabs(bound_soln).sum()"
   ]
  },
  {
   "cell_type": "markdown",
   "metadata": {},
   "source": [
    "Support vector machine\n",
    "\n",
    "This tutorial illustrates one version of the support vector machine, a\n",
    "linear example. The minimization problem for the support vector machine,\n",
    "following *ESL* is\n",
    "\n",
    "$$\n",
    "\\text{minimize}_{\\beta,\\gamma} \\sum_{i=1}^n (1- y_i(x_i^T\\beta+\\gamma))^+ + \\frac{\\lambda}{2} \\|\\beta\\|^2_2\n",
    "$$\n",
    "\n",
    "We use the $C$ parameterization in (12.25) of *ESL*\n",
    "\n",
    "$$\n",
    "\\text{minimize}_{\\beta,\\gamma} C \\sum_{i=1}^n (1- y_i(x_i^T\\beta+\\gamma))^+  + \\frac{1}{2} \\|\\beta\\|^2_2\n",
    "$$\n",
    "\n",
    "This is an example of the positive part atom combined with a smooth\n",
    "quadratic penalty. Above, the $x_i$ are rows of a matrix of\n",
    "features and the $y_i$ are labels coded as $\\pm 1$.\n",
    "\n",
    "Let’s generate some data appropriate for this problem."
   ]
  },
  {
   "cell_type": "code",
   "execution_count": 69,
   "metadata": {},
   "outputs": [],
   "source": [
    "import numpy as np\n",
    ">>>\n",
    "np.random.seed(400) # for reproducibility\n",
    "N = 500\n",
    "P = 2\n",
    ">>>\n",
    "Y = 2 * np.random.binomial(1, 0.5, size=(N,)) - 1.\n",
    "X = np.random.standard_normal((N,P))\n",
    "X[Y==1] += np.array([3,-2])[np.newaxis,:]\n",
    "X -= X.mean(0)[np.newaxis,:]"
   ]
  },
  {
   "cell_type": "code",
   "execution_count": 70,
   "metadata": {},
   "outputs": [
    {
     "name": "stdout",
     "output_type": "stream",
     "text": [
      "[[0.5 0.5]] [[-0.25  0.25]] [0 2]\n"
     ]
    }
   ],
   "source": [
    "from sklearn.svm import SVC\n",
    "clf = SVC(kernel='linear')\n",
    "X = np.array([[-1, -1], [-2, -1], [1, 1], [2, 1]])\n",
    "y = np.array([1, 1, 2, 2])\n",
    "clf.fit(X, y)\n",
    "print(clf.coef_, clf.dual_coef_, clf.support_)"
   ]
  },
  {
   "cell_type": "markdown",
   "metadata": {},
   "source": [
    "The hinge loss is not smooth, but it can be written as the composition\n",
    "of an `atom` (`positive_part`) with an affine transform determined\n",
    "by the data.\n",
    "\n",
    "Such objective functions can be smoothed. [NESTA](TODO) and\n",
    "[TFOCS](TODO) describe schemes in which smoothing of these atoms can\n",
    "be used to produce optimization problems with smooth objectives which\n",
    "can have additional structure imposed through optimization.\n",
    "\n",
    "Let us try smoothing the objective and using NESTA by smoothing the\n",
    "hinge loss. Of course, one can also solve the usual SVC dual problem by\n",
    "smoothing."
   ]
  },
  {
   "cell_type": "code",
   "execution_count": 71,
   "metadata": {},
   "outputs": [
    {
     "data": {
      "text/plain": [
       "(array([0.54059898, 0.44468378]),\n",
       " array([0.23285573, 0.        , 0.23285573, 0.        ]))"
      ]
     },
     "execution_count": 71,
     "metadata": {},
     "output_type": "execute_result"
    }
   ],
   "source": [
    "def nesta_svm(X, y_pm, C=1.):\n",
    "    n, p = X.shape\n",
    "    X_1 = np.hstack([X, np.ones((X.shape[0], 1))])\n",
    "    hinge_loss = rr.positive_part.affine(-y_pm[:,None] * X_1, + np.ones(n),\n",
    "                                        lagrange=C)\n",
    "    selector = np.identity(p+1)[:p]\n",
    "    smooth_ = rr.quadratic_loss.linear(selector)\n",
    "    soln = rr.nesta(smooth_, None, hinge_loss)\n",
    "    return soln[0][:-1], soln[1]\n",
    "\n",
    "nesta_svm(X, 2 * (y - 1.5))"
   ]
  },
  {
   "cell_type": "markdown",
   "metadata": {},
   "source": [
    "Let’s try a little larger data set."
   ]
  },
  {
   "cell_type": "code",
   "execution_count": 72,
   "metadata": {},
   "outputs": [
    {
     "data": {
      "text/plain": [
       "array([[ 0.03392693, -0.91351163, -0.0260219 , -0.29037068, -0.34668033,\n",
       "        -0.48974048, -0.34711183,  0.71658591,  0.05415365, -0.23807212,\n",
       "        -0.57111301, -0.21825985, -0.1718904 ,  0.34680402,  0.23467808,\n",
       "         0.17192434, -0.01959738,  0.15147373,  0.07052722,  0.11660805]])"
      ]
     },
     "execution_count": 72,
     "metadata": {},
     "output_type": "execute_result"
    }
   ],
   "source": [
    "X_l = np.random.standard_normal((100, 20))\n",
    "Y_l = 2 * np.random.binomial(1, 0.5, (100,)) - 1\n",
    "C = 4.\n",
    "clf = SVC(kernel='linear', C=C)\n",
    "clf.fit(X_l, Y_l)\n",
    "clf.coef_"
   ]
  },
  {
   "cell_type": "code",
   "execution_count": 73,
   "metadata": {},
   "outputs": [
    {
     "data": {
      "text/plain": [
       "[<matplotlib.lines.Line2D at 0x1247f1a58>]"
      ]
     },
     "execution_count": 73,
     "metadata": {},
     "output_type": "execute_result"
    }
   ],
   "source": [
    "solnR_ = nesta_svm(X_l, Y_l, C=C)[0]\n",
    "plt.scatter(clf.coef_, solnR_)\n",
    "plt.plot([-1,1], [-1,1])"
   ]
  },
  {
   "cell_type": "markdown",
   "metadata": {},
   "source": [
    "Using `regreg`, we can easily add penalty or constraint to the SVM\n",
    "objective."
   ]
  },
  {
   "cell_type": "code",
   "execution_count": 74,
   "metadata": {},
   "outputs": [
    {
     "data": {
      "text/plain": [
       "array([ 0.        , -0.20155192,  0.        ,  0.        ,  0.        ,\n",
       "       -0.03334131, -0.14715379,  0.17509434, -0.        , -0.        ,\n",
       "       -0.13078627,  0.        ,  0.        ,  0.02394207,  0.0756029 ,\n",
       "        0.01252739, -0.        , -0.        , -0.        , -0.        ])"
      ]
     },
     "execution_count": 74,
     "metadata": {},
     "output_type": "execute_result"
    }
   ],
   "source": [
    "def nesta_svm_pen(X, y_pm, atom, C=1.):\n",
    "    n, p = X.shape\n",
    "    X_1 = np.hstack([X, np.ones((X.shape[0], 1))])\n",
    "    hinge_loss = rr.positive_part.affine(-y_pm[:,None] * X_1, + np.ones(n),\n",
    "                                        lagrange=C)\n",
    "    selector = np.identity(p+1)[:p]\n",
    "    smooth_ = rr.quadratic_loss.linear(selector)\n",
    "    atom_sep = rr.separable((p+1,), [atom], [slice(0,p)])\n",
    "    soln = rr.nesta(smooth_, atom_sep, hinge_loss)\n",
    "    return soln[0][:-1]\n",
    "\n",
    "bound = rr.l1norm(20, bound=0.8)\n",
    "nesta_svm_pen(X_l, Y_l, bound)"
   ]
  },
  {
   "cell_type": "markdown",
   "metadata": {},
   "source": [
    "## Sparse Huberized SVM\n",
    "\n",
    "Instead of using NESTA we can just smooth the SVM with a fixed smoothing\n",
    "parameter and solve the problem directly."
   ]
  },
  {
   "cell_type": "code",
   "execution_count": 75,
   "metadata": {},
   "outputs": [
    {
     "data": {
      "text/plain": [
       "<matplotlib.collections.PathCollection at 0x1249b2278>"
      ]
     },
     "execution_count": 75,
     "metadata": {},
     "output_type": "execute_result"
    }
   ],
   "source": [
    "from regreg.smooth.losses import huberized_svm\n",
    "X_l_inter = np.hstack([X_l, np.ones((X_l.shape[0],1))])\n",
    "huber_svm = huberized_svm(X_l_inter, Y_l, smoothing_parameter=0.001, coef=C)\n",
    "coef_h = huber_svm.solve(min_its=100)[:-1]\n",
    "plt.scatter(coef_h, clf.coef_)"
   ]
  },
  {
   "cell_type": "markdown",
   "metadata": {},
   "source": [
    "Adding penalties or constraints is again straightforward."
   ]
  },
  {
   "cell_type": "code",
   "execution_count": 76,
   "metadata": {},
   "outputs": [],
   "source": [
    "penalty = rr.l1norm(X_l.shape[1], lagrange=8.)\n",
    "penalty_sep = rr.separable((X_l.shape[1]+1,), [penalty], [slice(0,X_l.shape[1])])\n",
    "huberized_problem = rr.simple_problem(huber_svm, penalty_sep)\n",
    "huberized_problem.solve()\n",
    "numpy2ri.deactivate()"
   ]
  }
 ],
 "metadata": {
  "language_info": {
   "codemirror_mode": {
    "name": "ipython",
    "version": 3
   },
   "file_extension": ".py",
   "mimetype": "text/x-python",
   "name": "python",
   "nbconvert_exporter": "python",
   "pygments_lexer": "ipython3",
   "version": "3.6.2"
  }
 },
 "nbformat": 4,
 "nbformat_minor": 2
}
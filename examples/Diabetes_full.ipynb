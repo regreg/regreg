{
 "cells": [
  {
   "cell_type": "markdown",
   "metadata": {},
   "source": [
    "## The Diabetes data from LARS"
   ]
  },
  {
   "cell_type": "code",
   "execution_count": 1,
   "metadata": {},
   "outputs": [],
   "source": [
    "import numpy as np, regreg.api as rr\n",
    "import rpy2.robjects as rpy2"
   ]
  },
  {
   "cell_type": "markdown",
   "metadata": {},
   "source": [
    "Let’s grab the diabetes data from the lars package in R"
   ]
  },
  {
   "cell_type": "code",
   "execution_count": 2,
   "metadata": {},
   "outputs": [],
   "source": [
    "rpy2.r('''\n",
    "suppressMessages(library(lars))\n",
    "data(diabetes)\n",
    "X = diabetes$x\n",
    "Y = diabetes$y\n",
    "diabetes_lars = lars(diabetes$x, diabetes$y, type='lasso')\n",
    "L = diabetes_lars$lambda\n",
    "''')\n",
    "X = rpy2.r('X')\n",
    "L = rpy2.r('L')\n",
    "Y = rpy2.r('Y')"
   ]
  },
  {
   "cell_type": "code",
   "execution_count": 3,
   "metadata": {},
   "outputs": [
    {
     "data": {
      "text/plain": [
       "(442, 10)"
      ]
     },
     "execution_count": 3,
     "metadata": {},
     "output_type": "execute_result"
    }
   ],
   "source": [
    "X = np.asarray(X)\n",
    "Y = np.asarray(Y)\n",
    "n, p = X.shape\n",
    "n, p"
   ]
  },
  {
   "cell_type": "markdown",
   "metadata": {},
   "source": [
    "Our loss function and penalty"
   ]
  },
  {
   "cell_type": "code",
   "execution_count": 4,
   "metadata": {},
   "outputs": [
    {
     "data": {
      "text/latex": [
       "$$\\ell^{\\text{Gauss}}\\left(X_{}\\beta\\right)$$"
      ],
      "text/plain": [
       "<regreg.smooth.glm.glm at 0x12aa34320>"
      ]
     },
     "execution_count": 4,
     "metadata": {},
     "output_type": "execute_result"
    }
   ],
   "source": [
    "loss = rr.glm.gaussian(X, Y)\n",
    "loss"
   ]
  },
  {
   "cell_type": "markdown",
   "metadata": {},
   "source": [
    "$$\n",
    "\\ell^{\\text{Gauss}}\\left(X_{}\\beta\\right)\n",
    "$$\n",
    "\n",
    "$$\n",
    "\\ell^{\\text{Gauss}}\\left(X_{}\\beta\\right)\n",
    "$$\n",
    "\n",
    "Now, our penalty:"
   ]
  },
  {
   "cell_type": "code",
   "execution_count": 5,
   "metadata": {},
   "outputs": [
    {
     "data": {
      "text/latex": [
       "$$\\lambda_{} \\|\\beta\\|_1$$"
      ],
      "text/plain": [
       "l1norm((10,), lagrange=316.074053, offset=None)"
      ]
     },
     "execution_count": 5,
     "metadata": {},
     "output_type": "execute_result"
    }
   ],
   "source": [
    "penalty = rr.l1norm(X.shape[1], lagrange=L[3])\n",
    "penalty"
   ]
  },
  {
   "cell_type": "markdown",
   "metadata": {},
   "source": [
    "$$\n",
    "\\lambda_{} \\|\\beta\\|_1\n",
    "$$\n",
    "\n",
    "$$\n",
    "\\lambda_{} \\|\\beta\\|_1\n",
    "$$\n",
    "\n",
    "Let’s form the problem"
   ]
  },
  {
   "cell_type": "code",
   "execution_count": 6,
   "metadata": {},
   "outputs": [
    {
     "data": {
      "text/latex": [
       "$$\n",
       "\\begin{aligned}\n",
       "\\text{minimize}_{\\beta} & f(\\beta) + g(\\beta) \\\\\n",
       "f(\\beta) &= \\ell^{\\text{Gauss}}\\left(X_{1}\\beta\\right) \\\\\n",
       "g(\\beta) &= \\lambda_{2} \\|\\beta\\|_1 \\\\\n",
       "\\end{aligned}\n",
       "$$"
      ],
      "text/plain": [
       "<regreg.problems.simple.simple_problem at 0x12aa34d30>"
      ]
     },
     "execution_count": 6,
     "metadata": {},
     "output_type": "execute_result"
    }
   ],
   "source": [
    "problem = rr.simple_problem(loss, penalty)\n",
    "problem"
   ]
  },
  {
   "cell_type": "markdown",
   "metadata": {},
   "source": [
    "$$\n",
    "\\begin{aligned}\n",
    "\\text{minimize}_{\\beta} & f(\\beta) + g(\\beta) \\\\\n",
    "f(\\beta) &= \\ell^{\\text{Gauss}}\\left(X_{1}\\beta\\right) \\\\\n",
    "g(\\beta) &= \\lambda_{2} \\|\\beta\\|_1 \\\\\n",
    "\\end{aligned}\n",
    "$$\n",
    "\n",
    "$$\n",
    "\\begin{aligned}\n",
    "\\text{minimize}_{\\beta} & f(\\beta) + g(\\beta) \\\\\n",
    "f(\\beta) &= \\ell^{\\text{Gauss}}\\left(X_{1}\\beta\\right) \\\\\n",
    "g(\\beta) &= \\lambda_{2} \\|\\beta\\|_1 \\\\\n",
    "\\end{aligned}\n",
    "$$\n",
    "\n",
    "and solve it"
   ]
  },
  {
   "cell_type": "code",
   "execution_count": 7,
   "metadata": {},
   "outputs": [
    {
     "data": {
      "text/plain": [
       "array([ 0.00000000e+00, -0.00000000e+00,  4.34757960e+02,  7.92364469e+01,\n",
       "        0.00000000e+00,  0.00000000e+00, -5.89750471e-11,  0.00000000e+00,\n",
       "        3.74915837e+02,  0.00000000e+00])"
      ]
     },
     "execution_count": 7,
     "metadata": {},
     "output_type": "execute_result"
    }
   ],
   "source": [
    "beta = problem.solve(min_its=100)\n",
    "beta"
   ]
  },
  {
   "cell_type": "markdown",
   "metadata": {},
   "source": [
    "Compare this to `R`’s solution:"
   ]
  },
  {
   "cell_type": "code",
   "execution_count": 8,
   "metadata": {},
   "outputs": [
    {
     "data": {
      "text/plain": [
       "array([  0.        ,   0.        , 434.75795962,  79.23644688,\n",
       "         0.        ,   0.        ,   0.        ,   0.        ,\n",
       "       374.91583685,   0.        ])"
      ]
     },
     "execution_count": 8,
     "metadata": {},
     "output_type": "execute_result"
    }
   ],
   "source": [
    "S = rpy2.r('diabetes_lars$beta[4,]')\n",
    "np.asarray(S)"
   ]
  },
  {
   "cell_type": "markdown",
   "metadata": {},
   "source": [
    "## Bound form\n",
    "\n",
    "We can also solve this in bound form"
   ]
  },
  {
   "cell_type": "code",
   "execution_count": 9,
   "metadata": {},
   "outputs": [
    {
     "data": {
      "text/latex": [
       "$$\n",
       "\\begin{aligned}\n",
       "\\text{minimize}_{\\beta} & f(\\beta) + g(\\beta) \\\\\n",
       "f(\\beta) &= \\ell^{\\text{Gauss}}\\left(X_{1}\\beta\\right) \\\\\n",
       "g(\\beta) &= I^{\\infty}(\\|\\beta\\|_1 \\leq \\delta_{2}) \\\\\n",
       "\\end{aligned}\n",
       "$$"
      ],
      "text/plain": [
       "<regreg.problems.simple.simple_problem at 0x12aa5a128>"
      ]
     },
     "execution_count": 9,
     "metadata": {},
     "output_type": "execute_result"
    }
   ],
   "source": [
    "bound_form = rr.l1norm(p, bound=np.fabs(beta).sum())\n",
    "bound_problem = rr.simple_problem(loss, bound_form)\n",
    "bound_problem"
   ]
  },
  {
   "cell_type": "markdown",
   "metadata": {},
   "source": [
    "$$\n",
    "\\begin{aligned}\n",
    "\\text{minimize}_{\\beta} & f(\\beta) + g(\\beta) \\\\\n",
    "f(\\beta) &= \\ell^{\\text{Gauss}}\\left(X_{1}\\beta\\right) \\\\\n",
    "g(\\beta) &= I^{\\infty}(\\|\\beta\\|_1 \\leq \\delta_{2}) \\\\\n",
    "\\end{aligned}\n",
    "$$\n",
    "\n",
    "$$\n",
    "\\begin{aligned}\n",
    "\\text{minimize}_{\\beta} & f(\\beta) + g(\\beta) \\\\\n",
    "f(\\beta) &= \\ell^{\\text{Gauss}}\\left(X_{1}\\beta\\right) \\\\\n",
    "g(\\beta) &= I^{\\infty}(\\|\\beta\\|_1 \\leq \\delta_{2}) \\\\\n",
    "\\end{aligned}\n",
    "$$\n",
    "\n",
    "Here is the solution"
   ]
  },
  {
   "cell_type": "code",
   "execution_count": 10,
   "metadata": {},
   "outputs": [
    {
     "data": {
      "text/plain": [
       "array([-0.00000000e+00,  0.00000000e+00,  4.34757960e+02,  7.92364469e+01,\n",
       "       -0.00000000e+00, -0.00000000e+00, -6.07087713e-11, -0.00000000e+00,\n",
       "        3.74915837e+02, -0.00000000e+00])"
      ]
     },
     "execution_count": 10,
     "metadata": {},
     "output_type": "execute_result"
    }
   ],
   "source": [
    "beta_bound = bound_problem.solve(min_its=100)\n",
    "beta_bound"
   ]
  }
 ],
 "metadata": {
  "language_info": {
   "codemirror_mode": {
    "name": "ipython",
    "version": 3
   },
   "file_extension": ".py",
   "mimetype": "text/x-python",
   "name": "python",
   "nbconvert_exporter": "python",
   "pygments_lexer": "ipython3",
   "version": "3.6.2"
  }
 },
 "nbformat": 4,
 "nbformat_minor": 2
}
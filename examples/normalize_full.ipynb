{
 "cells": [
  {
   "cell_type": "markdown",
   "metadata": {},
   "source": [
    "## Using an affine transform to normalize a matrix $X$\n",
    "\n",
    "This tutorial illustrates how to use an affine transform to normalize a\n",
    "data matrix $X$ without actually storing the normalized matrix.\n",
    "\n",
    "Suppose that we would like to solve the LASSO\n",
    "\n",
    "$$\n",
    "\\frac{1}{2}||y - X\\beta||^{2}_{2} + \\lambda||\\beta||_{1}\n",
    "$$\n",
    "\n",
    "after $X$ has been normalized to have column mean 0 and standard\n",
    "deviation 1.\n",
    "\n",
    "### The Diabetes data from LARS\n",
    "\n",
    "To begin, let’s grab the diabetes data from the lars package in R."
   ]
  },
  {
   "cell_type": "code",
   "execution_count": 1,
   "metadata": {},
   "outputs": [],
   "source": [
    "import rpy2.robjects as rpy2\n",
    "import numpy as np\n",
    "import regreg.api as rr\n",
    "rpy2.r('''\n",
    "suppressMessages(library(lars))\n",
    "data(diabetes)\n",
    "X = diabetes$x\n",
    "Y = diabetes$y\n",
    "''')\n",
    "X = np.asarray(rpy2.r('X'))\n",
    "Y = np.asarray(rpy2.r('Y'))\n",
    "n, p = X.shape"
   ]
  },
  {
   "cell_type": "markdown",
   "metadata": {},
   "source": [
    "We can always manually center and scale the columns of $X$"
   ]
  },
  {
   "cell_type": "code",
   "execution_count": 2,
   "metadata": {},
   "outputs": [
    {
     "name": "stdout",
     "output_type": "stream",
     "text": [
      "[-8.03781375e-18 -4.01890688e-17 -8.03781375e-18  2.00945344e-17\n",
      " -1.60756275e-17 -2.81323481e-17  0.00000000e+00 -5.62646963e-17\n",
      "  2.00945344e-17  0.00000000e+00]\n",
      "[1. 1. 1. 1. 1. 1. 1. 1. 1. 1.]\n"
     ]
    }
   ],
   "source": [
    "Xnorm = (X - np.mean(X,axis=0)) / np.std(X,axis=0)\n",
    "print(np.mean(Xnorm, axis=0))\n",
    "print(np.std(Xnorm, axis=0))"
   ]
  },
  {
   "cell_type": "markdown",
   "metadata": {},
   "source": [
    "However if $X$ is very large we may not want to store the\n",
    "normalized copy. This is especially true if $X$ is sparse because\n",
    "centering the columns will likely make the matrix dense. Instead we can\n",
    "use the normalize affine transformation"
   ]
  },
  {
   "cell_type": "code",
   "execution_count": 3,
   "metadata": {},
   "outputs": [],
   "source": [
    "Xnorm_rr = rr.normalize(X, center=True, scale=True) # the default"
   ]
  },
  {
   "cell_type": "markdown",
   "metadata": {},
   "source": [
    "We can verify that multiplications with Xnorm_rr are done correctly"
   ]
  },
  {
   "cell_type": "code",
   "execution_count": 4,
   "metadata": {},
   "outputs": [
    {
     "name": "stdout",
     "output_type": "stream",
     "text": [
      "8.350174568299303e-15\n",
      "8.350174568299303e-15\n",
      "3.36102486791825e-14\n",
      "3.36102486791825e-14\n"
     ]
    }
   ],
   "source": [
    "test_vec1 = np.random.standard_normal(p)\n",
    "test_vec2 = np.random.standard_normal(n)\n",
    "print(np.linalg.norm(np.dot(Xnorm, test_vec1) - Xnorm_rr.linear_map(test_vec1)))\n",
    "print(np.linalg.norm(np.dot(Xnorm, test_vec1) - Xnorm_rr.dot(test_vec1)))\n",
    "print(np.linalg.norm(np.dot(Xnorm.T, test_vec2) - Xnorm_rr.adjoint_map(test_vec2)))\n",
    "print(np.linalg.norm(np.dot(Xnorm.T, test_vec2) - Xnorm_rr.T.dot(test_vec2)))"
   ]
  },
  {
   "cell_type": "markdown",
   "metadata": {},
   "source": [
    "Finally, we can solve the LASSO with both matrices and see that the\n",
    "solutions are the same,"
   ]
  },
  {
   "cell_type": "code",
   "execution_count": 5,
   "metadata": {},
   "outputs": [],
   "source": [
    "loss1 = rr.squared_error(Xnorm, Y)\n",
    "sparsity = rr.l1norm(p, lagrange = 800.)\n",
    "problem1 = rr.container(loss1, sparsity)\n",
    "solver1 = rr.FISTA(problem1)\n",
    "solver1.fit()\n",
    "coefs1 = solver1.composite.coefs\n",
    "loss2 = rr.squared_error(Xnorm_rr, Y)\n",
    "problem2 = rr.container(loss2, sparsity)\n",
    "solver2 = rr.FISTA(problem2)\n",
    "solver2.fit()\n",
    "coefs2 = solver2.composite.coefs"
   ]
  },
  {
   "cell_type": "code",
   "execution_count": 6,
   "metadata": {},
   "outputs": [
    {
     "data": {
      "text/plain": [
       "3.959622518784791e-14"
      ]
     },
     "execution_count": 6,
     "metadata": {},
     "output_type": "execute_result"
    }
   ],
   "source": [
    "np.linalg.norm(coefs1-coefs2)"
   ]
  },
  {
   "cell_type": "code",
   "execution_count": 7,
   "metadata": {},
   "outputs": [
    {
     "data": {
      "text/plain": [
       "array([ -0.        ,  -7.5600115 ,  25.04059284,  13.31564146,\n",
       "        -0.72193921,  -1.92904486, -10.70843844,   0.        ,\n",
       "        22.67989762,   1.37154407])"
      ]
     },
     "execution_count": 7,
     "metadata": {},
     "output_type": "execute_result"
    }
   ],
   "source": [
    "coefs2"
   ]
  },
  {
   "cell_type": "code",
   "execution_count": 8,
   "metadata": {},
   "outputs": [
    {
     "data": {
      "text/plain": [
       "array([ -0.        ,  -7.5600115 ,  25.04059284,  13.31564146,\n",
       "        -0.72193921,  -1.92904486, -10.70843844,   0.        ,\n",
       "        22.67989762,   1.37154407])"
      ]
     },
     "execution_count": 8,
     "metadata": {},
     "output_type": "execute_result"
    }
   ],
   "source": [
    "coefs1"
   ]
  }
 ],
 "metadata": {
  "language_info": {
   "codemirror_mode": {
    "name": "ipython",
    "version": 3
   },
   "file_extension": ".py",
   "mimetype": "text/x-python",
   "name": "python",
   "nbconvert_exporter": "python",
   "pygments_lexer": "ipython3",
   "version": "3.6.2"
  }
 },
 "nbformat": 4,
 "nbformat_minor": 2
}